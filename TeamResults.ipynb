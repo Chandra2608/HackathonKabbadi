{
 "cells": [
  {
   "cell_type": "code",
   "execution_count": 1,
   "metadata": {},
   "outputs": [],
   "source": [
    "import pandas as pd\n",
    "import numpy as np\n"
   ]
  },
  {
   "cell_type": "code",
   "execution_count": 2,
   "metadata": {},
   "outputs": [],
   "source": [
    "S5=pd.read_csv(r'I:\\Chandra J\\Python\\Kabbadi_Data\\Season5.csv')\n",
    "S6=pd.read_csv(r'I:\\Chandra J\\Python\\Kabbadi_Data\\Season6.csv')\n",
    "S7=pd.read_csv(r'I:\\Chandra J\\Python\\Kabbadi_Data\\Season7.csv')"
   ]
  },
  {
   "cell_type": "code",
   "execution_count": 3,
   "metadata": {},
   "outputs": [],
   "source": [
    "S5=S5.drop('Unnamed: 0',axis=1)\n",
    "S6=S6.drop('Unnamed: 0',axis=1)\n",
    "S7=S7.drop('Unnamed: 0',axis=1)"
   ]
  },
  {
   "cell_type": "markdown",
   "metadata": {},
   "source": [
    "## Linear Regression Model \n"
   ]
  },
  {
   "cell_type": "code",
   "execution_count": 4,
   "metadata": {},
   "outputs": [
    {
     "name": "stderr",
     "output_type": "stream",
     "text": [
      "C:\\Users\\cjyothsna\\AppData\\Local\\Continuum\\anaconda3\\lib\\site-packages\\sklearn\\preprocessing\\data.py:334: DataConversionWarning: Data with input dtype int64 were all converted to float64 by MinMaxScaler.\n",
      "  return self.partial_fit(X, y)\n"
     ]
    }
   ],
   "source": [
    "from sklearn.preprocessing import MinMaxScaler\n",
    "scaler = MinMaxScaler()\n",
    "\n",
    "var=['MatchesPlayed','Total Points Conceded','Successful Raids','Successful Tackles','Super Raid','Super Tackles','Inflicted','Conceded','Total Points']\n",
    "\n",
    "S5[var]=scaler.fit_transform(S5[var])"
   ]
  },
  {
   "cell_type": "markdown",
   "metadata": {},
   "source": [
    "## Team winner Prediction"
   ]
  },
  {
   "cell_type": "code",
   "execution_count": 5,
   "metadata": {},
   "outputs": [],
   "source": [
    "\n",
    "X_train=S5[['MatchesPlayed','Total Points Conceded','Successful Raids','Successful Tackles','Super Raid','Super Tackles','Inflicted','Conceded']]\n",
    "\n",
    "y_train=S5['Total Points']"
   ]
  },
  {
   "cell_type": "code",
   "execution_count": 6,
   "metadata": {},
   "outputs": [
    {
     "name": "stdout",
     "output_type": "stream",
     "text": [
      "                            OLS Regression Results                            \n",
      "==============================================================================\n",
      "Dep. Variable:           Total Points   R-squared:                       0.999\n",
      "Model:                            OLS   Adj. R-squared:                  0.996\n",
      "Method:                 Least Squares   F-statistic:                     327.9\n",
      "Date:                Wed, 02 Oct 2019   Prob (F-statistic):           0.000253\n",
      "Time:                        12:06:31   Log-Likelihood:                 40.811\n",
      "No. Observations:                  12   AIC:                            -63.62\n",
      "Df Residuals:                       3   BIC:                            -59.26\n",
      "Df Model:                           8                                         \n",
      "Covariance Type:            nonrobust                                         \n",
      "=========================================================================================\n",
      "                            coef    std err          t      P>|t|      [0.025      0.975]\n",
      "-----------------------------------------------------------------------------------------\n",
      "const                    -0.0558      0.033     -1.702      0.187      -0.160       0.048\n",
      "MatchesPlayed             0.0809      0.062      1.309      0.282      -0.116       0.278\n",
      "Total Points Conceded    -0.0218      0.074     -0.296      0.787      -0.256       0.212\n",
      "Successful Raids          0.3639      0.047      7.807      0.004       0.216       0.512\n",
      "Successful Tackles        0.1328      0.058      2.297      0.105      -0.051       0.317\n",
      "Super Raid                0.1332      0.027      5.006      0.015       0.049       0.218\n",
      "Super Tackles             0.0872      0.034      2.598      0.080      -0.020       0.194\n",
      "Inflicted                 0.2797      0.059      4.725      0.018       0.091       0.468\n",
      "Conceded                  0.0599      0.048      1.243      0.302      -0.093       0.213\n",
      "==============================================================================\n",
      "Omnibus:                        1.495   Durbin-Watson:                   2.582\n",
      "Prob(Omnibus):                  0.474   Jarque-Bera (JB):                1.140\n",
      "Skew:                           0.609   Prob(JB):                        0.566\n",
      "Kurtosis:                       2.108   Cond. No.                         31.6\n",
      "==============================================================================\n",
      "\n",
      "Warnings:\n",
      "[1] Standard Errors assume that the covariance matrix of the errors is correctly specified.\n"
     ]
    },
    {
     "name": "stderr",
     "output_type": "stream",
     "text": [
      "C:\\Users\\cjyothsna\\AppData\\Local\\Continuum\\anaconda3\\lib\\site-packages\\numpy\\core\\fromnumeric.py:2389: FutureWarning: Method .ptp is deprecated and will be removed in a future version. Use numpy.ptp instead.\n",
      "  return ptp(axis=axis, out=out, **kwargs)\n",
      "C:\\Users\\cjyothsna\\AppData\\Local\\Continuum\\anaconda3\\lib\\site-packages\\scipy\\stats\\stats.py:1416: UserWarning: kurtosistest only valid for n>=20 ... continuing anyway, n=12\n",
      "  \"anyway, n=%i\" % int(n))\n"
     ]
    }
   ],
   "source": [
    "import statsmodels.api as sm\n",
    "X_train_lm = sm.add_constant(X_train)\n",
    "\n",
    "lr_1 = sm.OLS(y_train, X_train_lm).fit()\n",
    "\n",
    "print(lr_1.summary())"
   ]
  },
  {
   "cell_type": "code",
   "execution_count": 7,
   "metadata": {},
   "outputs": [
    {
     "data": {
      "text/html": [
       "<div>\n",
       "<style scoped>\n",
       "    .dataframe tbody tr th:only-of-type {\n",
       "        vertical-align: middle;\n",
       "    }\n",
       "\n",
       "    .dataframe tbody tr th {\n",
       "        vertical-align: top;\n",
       "    }\n",
       "\n",
       "    .dataframe thead th {\n",
       "        text-align: right;\n",
       "    }\n",
       "</style>\n",
       "<table border=\"1\" class=\"dataframe\">\n",
       "  <thead>\n",
       "    <tr style=\"text-align: right;\">\n",
       "      <th></th>\n",
       "      <th>Features</th>\n",
       "      <th>VIF</th>\n",
       "    </tr>\n",
       "  </thead>\n",
       "  <tbody>\n",
       "    <tr>\n",
       "      <th>1</th>\n",
       "      <td>Total Points Conceded</td>\n",
       "      <td>42.64</td>\n",
       "    </tr>\n",
       "    <tr>\n",
       "      <th>6</th>\n",
       "      <td>Inflicted</td>\n",
       "      <td>18.99</td>\n",
       "    </tr>\n",
       "    <tr>\n",
       "      <th>0</th>\n",
       "      <td>MatchesPlayed</td>\n",
       "      <td>16.14</td>\n",
       "    </tr>\n",
       "    <tr>\n",
       "      <th>3</th>\n",
       "      <td>Successful Tackles</td>\n",
       "      <td>14.79</td>\n",
       "    </tr>\n",
       "    <tr>\n",
       "      <th>2</th>\n",
       "      <td>Successful Raids</td>\n",
       "      <td>13.95</td>\n",
       "    </tr>\n",
       "    <tr>\n",
       "      <th>7</th>\n",
       "      <td>Conceded</td>\n",
       "      <td>13.11</td>\n",
       "    </tr>\n",
       "    <tr>\n",
       "      <th>5</th>\n",
       "      <td>Super Tackles</td>\n",
       "      <td>8.51</td>\n",
       "    </tr>\n",
       "    <tr>\n",
       "      <th>4</th>\n",
       "      <td>Super Raid</td>\n",
       "      <td>5.93</td>\n",
       "    </tr>\n",
       "  </tbody>\n",
       "</table>\n",
       "</div>"
      ],
      "text/plain": [
       "                Features    VIF\n",
       "1  Total Points Conceded  42.64\n",
       "6              Inflicted  18.99\n",
       "0          MatchesPlayed  16.14\n",
       "3     Successful Tackles  14.79\n",
       "2       Successful Raids  13.95\n",
       "7               Conceded  13.11\n",
       "5          Super Tackles   8.51\n",
       "4             Super Raid   5.93"
      ]
     },
     "execution_count": 7,
     "metadata": {},
     "output_type": "execute_result"
    }
   ],
   "source": [
    "from statsmodels.stats.outliers_influence import variance_inflation_factor\n",
    "vif = pd.DataFrame()\n",
    "vif['Features'] = X_train.columns\n",
    "vif['VIF'] = [variance_inflation_factor(X_train.values, i) for i in range(X_train.shape[1])]\n",
    "vif['VIF'] = round(vif['VIF'], 2)\n",
    "vif = vif.sort_values(by = \"VIF\", ascending = False)\n",
    "vif"
   ]
  },
  {
   "cell_type": "code",
   "execution_count": 8,
   "metadata": {},
   "outputs": [
    {
     "name": "stdout",
     "output_type": "stream",
     "text": [
      "                            OLS Regression Results                            \n",
      "==============================================================================\n",
      "Dep. Variable:           Total Points   R-squared:                       0.999\n",
      "Model:                            OLS   Adj. R-squared:                  0.997\n",
      "Method:                 Least Squares   F-statistic:                     485.4\n",
      "Date:                Wed, 02 Oct 2019   Prob (F-statistic):           1.09e-05\n",
      "Time:                        12:06:35   Log-Likelihood:                 40.639\n",
      "No. Observations:                  12   AIC:                            -65.28\n",
      "Df Residuals:                       4   BIC:                            -61.40\n",
      "Df Model:                           7                                         \n",
      "Covariance Type:            nonrobust                                         \n",
      "======================================================================================\n",
      "                         coef    std err          t      P>|t|      [0.025      0.975]\n",
      "--------------------------------------------------------------------------------------\n",
      "const                 -0.0559      0.029     -1.941      0.124      -0.136       0.024\n",
      "MatchesPlayed          0.0746      0.051      1.463      0.217      -0.067       0.216\n",
      "Successful Raids       0.3586      0.038      9.486      0.001       0.254       0.463\n",
      "Successful Tackles     0.1406      0.045      3.110      0.036       0.015       0.266\n",
      "Super Raid             0.1313      0.023      5.777      0.004       0.068       0.194\n",
      "Super Tackles          0.0836      0.028      3.038      0.038       0.007       0.160\n",
      "Inflicted              0.2744      0.050      5.534      0.005       0.137       0.412\n",
      "Conceded               0.0534      0.038      1.416      0.230      -0.051       0.158\n",
      "==============================================================================\n",
      "Omnibus:                        2.057   Durbin-Watson:                   2.748\n",
      "Prob(Omnibus):                  0.357   Jarque-Bera (JB):                1.348\n",
      "Skew:                           0.779   Prob(JB):                        0.510\n",
      "Kurtosis:                       2.485   Cond. No.                         29.6\n",
      "==============================================================================\n",
      "\n",
      "Warnings:\n",
      "[1] Standard Errors assume that the covariance matrix of the errors is correctly specified.\n"
     ]
    },
    {
     "name": "stderr",
     "output_type": "stream",
     "text": [
      "C:\\Users\\cjyothsna\\AppData\\Local\\Continuum\\anaconda3\\lib\\site-packages\\numpy\\core\\fromnumeric.py:2389: FutureWarning: Method .ptp is deprecated and will be removed in a future version. Use numpy.ptp instead.\n",
      "  return ptp(axis=axis, out=out, **kwargs)\n",
      "C:\\Users\\cjyothsna\\AppData\\Local\\Continuum\\anaconda3\\lib\\site-packages\\scipy\\stats\\stats.py:1416: UserWarning: kurtosistest only valid for n>=20 ... continuing anyway, n=12\n",
      "  \"anyway, n=%i\" % int(n))\n"
     ]
    }
   ],
   "source": [
    "X = X_train.drop('Total Points Conceded', 1,)\n",
    "X_train_lm = sm.add_constant(X)\n",
    "\n",
    "lr_2 = sm.OLS(y_train, X_train_lm).fit()\n",
    "print(lr_2.summary())"
   ]
  },
  {
   "cell_type": "code",
   "execution_count": 9,
   "metadata": {},
   "outputs": [
    {
     "data": {
      "text/html": [
       "<div>\n",
       "<style scoped>\n",
       "    .dataframe tbody tr th:only-of-type {\n",
       "        vertical-align: middle;\n",
       "    }\n",
       "\n",
       "    .dataframe tbody tr th {\n",
       "        vertical-align: top;\n",
       "    }\n",
       "\n",
       "    .dataframe thead th {\n",
       "        text-align: right;\n",
       "    }\n",
       "</style>\n",
       "<table border=\"1\" class=\"dataframe\">\n",
       "  <thead>\n",
       "    <tr style=\"text-align: right;\">\n",
       "      <th></th>\n",
       "      <th>Features</th>\n",
       "      <th>VIF</th>\n",
       "    </tr>\n",
       "  </thead>\n",
       "  <tbody>\n",
       "    <tr>\n",
       "      <th>5</th>\n",
       "      <td>Inflicted</td>\n",
       "      <td>16.94</td>\n",
       "    </tr>\n",
       "    <tr>\n",
       "      <th>0</th>\n",
       "      <td>MatchesPlayed</td>\n",
       "      <td>13.01</td>\n",
       "    </tr>\n",
       "    <tr>\n",
       "      <th>1</th>\n",
       "      <td>Successful Raids</td>\n",
       "      <td>11.77</td>\n",
       "    </tr>\n",
       "    <tr>\n",
       "      <th>2</th>\n",
       "      <td>Successful Tackles</td>\n",
       "      <td>7.02</td>\n",
       "    </tr>\n",
       "    <tr>\n",
       "      <th>4</th>\n",
       "      <td>Super Tackles</td>\n",
       "      <td>6.60</td>\n",
       "    </tr>\n",
       "    <tr>\n",
       "      <th>3</th>\n",
       "      <td>Super Raid</td>\n",
       "      <td>5.57</td>\n",
       "    </tr>\n",
       "    <tr>\n",
       "      <th>6</th>\n",
       "      <td>Conceded</td>\n",
       "      <td>4.05</td>\n",
       "    </tr>\n",
       "  </tbody>\n",
       "</table>\n",
       "</div>"
      ],
      "text/plain": [
       "             Features    VIF\n",
       "5           Inflicted  16.94\n",
       "0       MatchesPlayed  13.01\n",
       "1    Successful Raids  11.77\n",
       "2  Successful Tackles   7.02\n",
       "4       Super Tackles   6.60\n",
       "3          Super Raid   5.57\n",
       "6            Conceded   4.05"
      ]
     },
     "execution_count": 9,
     "metadata": {},
     "output_type": "execute_result"
    }
   ],
   "source": [
    "vif = pd.DataFrame()\n",
    "vif['Features'] = X.columns\n",
    "vif['VIF'] = [variance_inflation_factor(X.values, i) for i in range(X.shape[1])]\n",
    "vif['VIF'] = round(vif['VIF'], 2)\n",
    "vif = vif.sort_values(by = \"VIF\", ascending = False)\n",
    "vif"
   ]
  },
  {
   "cell_type": "code",
   "execution_count": 10,
   "metadata": {},
   "outputs": [
    {
     "name": "stdout",
     "output_type": "stream",
     "text": [
      "                            OLS Regression Results                            \n",
      "==============================================================================\n",
      "Dep. Variable:           Total Points   R-squared:                       0.998\n",
      "Model:                            OLS   Adj. R-squared:                  0.996\n",
      "Method:                 Least Squares   F-statistic:                     471.2\n",
      "Date:                Wed, 02 Oct 2019   Prob (F-statistic):           1.03e-06\n",
      "Time:                        12:06:39   Log-Likelihood:                 38.200\n",
      "No. Observations:                  12   AIC:                            -62.40\n",
      "Df Residuals:                       5   BIC:                            -59.01\n",
      "Df Model:                           6                                         \n",
      "Covariance Type:            nonrobust                                         \n",
      "======================================================================================\n",
      "                         coef    std err          t      P>|t|      [0.025      0.975]\n",
      "--------------------------------------------------------------------------------------\n",
      "const                 -0.0176      0.011     -1.607      0.169      -0.046       0.011\n",
      "MatchesPlayed          0.1170      0.045      2.584      0.049       0.001       0.233\n",
      "Successful Raids       0.3548      0.041      8.586      0.000       0.249       0.461\n",
      "Successful Tackles     0.0902      0.030      2.956      0.032       0.012       0.169\n",
      "Super Raid             0.1256      0.025      5.123      0.004       0.063       0.189\n",
      "Super Tackles          0.1132      0.020      5.774      0.002       0.063       0.164\n",
      "Inflicted              0.2404      0.048      5.056      0.004       0.118       0.363\n",
      "==============================================================================\n",
      "Omnibus:                        1.218   Durbin-Watson:                   2.667\n",
      "Prob(Omnibus):                  0.544   Jarque-Bera (JB):                0.111\n",
      "Skew:                          -0.198   Prob(JB):                        0.946\n",
      "Kurtosis:                       3.254   Cond. No.                         18.3\n",
      "==============================================================================\n",
      "\n",
      "Warnings:\n",
      "[1] Standard Errors assume that the covariance matrix of the errors is correctly specified.\n"
     ]
    },
    {
     "name": "stderr",
     "output_type": "stream",
     "text": [
      "C:\\Users\\cjyothsna\\AppData\\Local\\Continuum\\anaconda3\\lib\\site-packages\\numpy\\core\\fromnumeric.py:2389: FutureWarning: Method .ptp is deprecated and will be removed in a future version. Use numpy.ptp instead.\n",
      "  return ptp(axis=axis, out=out, **kwargs)\n",
      "C:\\Users\\cjyothsna\\AppData\\Local\\Continuum\\anaconda3\\lib\\site-packages\\scipy\\stats\\stats.py:1416: UserWarning: kurtosistest only valid for n>=20 ... continuing anyway, n=12\n",
      "  \"anyway, n=%i\" % int(n))\n"
     ]
    }
   ],
   "source": [
    "X = X.drop('Conceded', 1,)\n",
    "X_train_lm = sm.add_constant(X)\n",
    "\n",
    "lr_2 = sm.OLS(y_train, X_train_lm).fit()\n",
    "print(lr_2.summary())"
   ]
  },
  {
   "cell_type": "code",
   "execution_count": 11,
   "metadata": {},
   "outputs": [
    {
     "data": {
      "text/plain": [
       "Text(0.5, 0, 'Errors')"
      ]
     },
     "execution_count": 11,
     "metadata": {},
     "output_type": "execute_result"
    },
    {
     "data": {
      "image/png": "[encoded data removed]",
      "text/plain": [
       "<Figure size 432x288 with 1 Axes>"
      ]
     },
     "metadata": {
      "needs_background": "light"
     },
     "output_type": "display_data"
    }
   ],
   "source": [
    "y_train_pred=lr_2.predict(X_train_lm)\n",
    "import matplotlib.pyplot as plt\n",
    "import seaborn as sns\n",
    "fig = plt.figure()\n",
    "sns.distplot((y_train - y_train_pred), bins = 20)\n",
    "fig.suptitle('Error Terms', fontsize = 20)                  # Plot heading \n",
    "plt.xlabel('Errors', fontsize = 18) "
   ]
  },
  {
   "cell_type": "code",
   "execution_count": 12,
   "metadata": {},
   "outputs": [
    {
     "name": "stderr",
     "output_type": "stream",
     "text": [
      "C:\\Users\\cjyothsna\\AppData\\Local\\Continuum\\anaconda3\\lib\\site-packages\\numpy\\core\\fromnumeric.py:2389: FutureWarning: Method .ptp is deprecated and will be removed in a future version. Use numpy.ptp instead.\n",
      "  return ptp(axis=axis, out=out, **kwargs)\n"
     ]
    },
    {
     "data": {
      "text/plain": [
       "Text(0, 0.5, 'y_pred')"
      ]
     },
     "execution_count": 12,
     "metadata": {},
     "output_type": "execute_result"
    },
    {
     "data": {
      "image/png": "[encoded data removed]",
      "text/plain": [
       "<Figure size 432x288 with 1 Axes>"
      ]
     },
     "metadata": {
      "needs_background": "light"
     },
     "output_type": "display_data"
    }
   ],
   "source": [
    "S6_var=['MatchesPlayed','Total Points Conceded','Successful Raids','Successful Tackles','Super Raid','Super Tackles','Inflicted','Conceded','Total Points']\n",
    "S6[S6_var]=scaler.transform(S6[S6_var])\n",
    "X_test_S6=S6[['MatchesPlayed','Total Points Conceded','Successful Raids','Successful Tackles','Super Raid','Super Tackles','Inflicted','Conceded']]\n",
    "y_test_S6=S6['Total Points'] \n",
    "X_test_m6=sm.add_constant(X_test_S6)\n",
    "X_test_m6=X_test_m6.drop(['Total Points Conceded','Conceded'],1)\n",
    "y_pred_test_S6=lr_2.predict(X_test_m6)\n",
    "fig = plt.figure()\n",
    "plt.scatter(y_test_S6, y_pred_test_S6)\n",
    "fig.suptitle('y_test vs y_pred', fontsize = 20)              # Plot heading \n",
    "plt.xlabel('y_test', fontsize = 18)                          # X-label\n",
    "plt.ylabel('y_pred', fontsize = 16)"
   ]
  },
  {
   "cell_type": "code",
   "execution_count": 13,
   "metadata": {},
   "outputs": [
    {
     "data": {
      "text/plain": [
       "0     0.582918\n",
       "1     0.555792\n",
       "2     0.520442\n",
       "3     0.495641\n",
       "4     0.472437\n",
       "5     0.376267\n",
       "6     0.275166\n",
       "7     0.200544\n",
       "8     0.286488\n",
       "9     0.161245\n",
       "10    0.162475\n",
       "11    0.211590\n",
       "dtype: float64"
      ]
     },
     "execution_count": 13,
     "metadata": {},
     "output_type": "execute_result"
    }
   ],
   "source": [
    "y_pred_test_S6"
   ]
  },
  {
   "cell_type": "markdown",
   "metadata": {},
   "source": [
    "## Predicting Season 7 -  Team winner\n"
   ]
  },
  {
   "cell_type": "code",
   "execution_count": 14,
   "metadata": {},
   "outputs": [
    {
     "name": "stderr",
     "output_type": "stream",
     "text": [
      "C:\\Users\\cjyothsna\\AppData\\Local\\Continuum\\anaconda3\\lib\\site-packages\\numpy\\core\\fromnumeric.py:2389: FutureWarning: Method .ptp is deprecated and will be removed in a future version. Use numpy.ptp instead.\n",
      "  return ptp(axis=axis, out=out, **kwargs)\n"
     ]
    },
    {
     "data": {
      "text/plain": [
       "Text(0, 0.5, 'y_pred')"
      ]
     },
     "execution_count": 14,
     "metadata": {},
     "output_type": "execute_result"
    },
    {
     "data": {
      "image/png": "[encoded data removed]",
      "text/plain": [
       "<Figure size 432x288 with 1 Axes>"
      ]
     },
     "metadata": {
      "needs_background": "light"
     },
     "output_type": "display_data"
    }
   ],
   "source": [
    "S7_var=['MatchesPlayed','Total Points Conceded','Successful Raids','Successful Tackles','Super Raid','Super Tackles','Inflicted','Conceded','Total Points']\n",
    "S7[S7_var]=scaler.transform(S7[S7_var])\n",
    "X_test_S7=S7[['MatchesPlayed','Total Points Conceded','Successful Raids','Successful Tackles','Super Raid','Super Tackles','Inflicted','Conceded']]\n",
    "y_test_S7=S7['Total Points'] \n",
    "X_test_m7=sm.add_constant(X_test_S7)\n",
    "X_test_m7=X_test_m7.drop(['Total Points Conceded','Conceded'],1)\n",
    "y_pred_test_S7=lr_2.predict(X_test_m7)\n",
    "fig = plt.figure()\n",
    "plt.scatter(y_test_S7, y_pred_test_S7)\n",
    "fig.suptitle('y_test vs y_pred', fontsize = 20)              # Plot heading \n",
    "plt.xlabel('y_test', fontsize = 18)                          # X-label\n",
    "plt.ylabel('y_pred', fontsize = 16)  "
   ]
  },
  {
   "cell_type": "code",
   "execution_count": 15,
   "metadata": {},
   "outputs": [
    {
     "data": {
      "text/html": [
       "<div>\n",
       "<style scoped>\n",
       "    .dataframe tbody tr th:only-of-type {\n",
       "        vertical-align: middle;\n",
       "    }\n",
       "\n",
       "    .dataframe tbody tr th {\n",
       "        vertical-align: top;\n",
       "    }\n",
       "\n",
       "    .dataframe thead th {\n",
       "        text-align: right;\n",
       "    }\n",
       "</style>\n",
       "<table border=\"1\" class=\"dataframe\">\n",
       "  <thead>\n",
       "    <tr style=\"text-align: right;\">\n",
       "      <th></th>\n",
       "      <th>Team</th>\n",
       "      <th>Total Points</th>\n",
       "      <th>MatchesPlayed</th>\n",
       "      <th>Total Points Conceded</th>\n",
       "      <th>Successful Raids</th>\n",
       "      <th>Successful Tackles</th>\n",
       "      <th>Super Raid</th>\n",
       "      <th>Super Tackles</th>\n",
       "      <th>Inflicted</th>\n",
       "      <th>Conceded</th>\n",
       "      <th>Predicted</th>\n",
       "    </tr>\n",
       "  </thead>\n",
       "  <tbody>\n",
       "    <tr>\n",
       "      <th>0</th>\n",
       "      <td>Dabang Delhi K.C.</td>\n",
       "      <td>0.318584</td>\n",
       "      <td>-0.5</td>\n",
       "      <td>0.064286</td>\n",
       "      <td>0.382353</td>\n",
       "      <td>0.236559</td>\n",
       "      <td>0.142857</td>\n",
       "      <td>-0.117647</td>\n",
       "      <td>0.432432</td>\n",
       "      <td>0.052632</td>\n",
       "      <td>0.189428</td>\n",
       "    </tr>\n",
       "    <tr>\n",
       "      <th>1</th>\n",
       "      <td>Bengal Warriors</td>\n",
       "      <td>0.265487</td>\n",
       "      <td>-0.5</td>\n",
       "      <td>-0.064286</td>\n",
       "      <td>0.279412</td>\n",
       "      <td>0.247312</td>\n",
       "      <td>0.476190</td>\n",
       "      <td>0.117647</td>\n",
       "      <td>0.432432</td>\n",
       "      <td>0.000000</td>\n",
       "      <td>0.222394</td>\n",
       "    </tr>\n",
       "    <tr>\n",
       "      <th>2</th>\n",
       "      <td>Patna Pirates</td>\n",
       "      <td>0.150442</td>\n",
       "      <td>-0.5</td>\n",
       "      <td>0.107143</td>\n",
       "      <td>0.098039</td>\n",
       "      <td>0.161290</td>\n",
       "      <td>0.380952</td>\n",
       "      <td>0.823529</td>\n",
       "      <td>0.270270</td>\n",
       "      <td>0.368421</td>\n",
       "      <td>0.179262</td>\n",
       "    </tr>\n",
       "    <tr>\n",
       "      <th>3</th>\n",
       "      <td>Bengaluru Bulls</td>\n",
       "      <td>0.150442</td>\n",
       "      <td>-0.5</td>\n",
       "      <td>0.067857</td>\n",
       "      <td>0.127451</td>\n",
       "      <td>0.096774</td>\n",
       "      <td>0.142857</td>\n",
       "      <td>0.882353</td>\n",
       "      <td>0.135135</td>\n",
       "      <td>0.421053</td>\n",
       "      <td>0.128139</td>\n",
       "    </tr>\n",
       "    <tr>\n",
       "      <th>4</th>\n",
       "      <td>Haryana Steelers</td>\n",
       "      <td>0.141593</td>\n",
       "      <td>-0.5</td>\n",
       "      <td>0.025000</td>\n",
       "      <td>0.034314</td>\n",
       "      <td>0.236559</td>\n",
       "      <td>0.428571</td>\n",
       "      <td>0.235294</td>\n",
       "      <td>0.270270</td>\n",
       "      <td>0.315789</td>\n",
       "      <td>0.102822</td>\n",
       "    </tr>\n",
       "    <tr>\n",
       "      <th>5</th>\n",
       "      <td>Puneri Paltan</td>\n",
       "      <td>0.119469</td>\n",
       "      <td>-0.5</td>\n",
       "      <td>0.292857</td>\n",
       "      <td>0.034314</td>\n",
       "      <td>0.516129</td>\n",
       "      <td>0.047619</td>\n",
       "      <td>0.882353</td>\n",
       "      <td>0.000000</td>\n",
       "      <td>0.842105</td>\n",
       "      <td>0.088450</td>\n",
       "    </tr>\n",
       "    <tr>\n",
       "      <th>6</th>\n",
       "      <td>U Mumba</td>\n",
       "      <td>0.066372</td>\n",
       "      <td>-0.5</td>\n",
       "      <td>-0.192857</td>\n",
       "      <td>-0.049020</td>\n",
       "      <td>0.161290</td>\n",
       "      <td>0.095238</td>\n",
       "      <td>0.529412</td>\n",
       "      <td>0.243243</td>\n",
       "      <td>0.210526</td>\n",
       "      <td>0.051400</td>\n",
       "    </tr>\n",
       "    <tr>\n",
       "      <th>7</th>\n",
       "      <td>Jaipur Pink Panthers</td>\n",
       "      <td>0.061947</td>\n",
       "      <td>-0.5</td>\n",
       "      <td>0.010714</td>\n",
       "      <td>-0.107843</td>\n",
       "      <td>0.322581</td>\n",
       "      <td>0.095238</td>\n",
       "      <td>1.294118</td>\n",
       "      <td>0.027027</td>\n",
       "      <td>0.315789</td>\n",
       "      <td>0.079669</td>\n",
       "    </tr>\n",
       "    <tr>\n",
       "      <th>8</th>\n",
       "      <td>Gujarat Fortunegiants</td>\n",
       "      <td>0.015487</td>\n",
       "      <td>-0.5</td>\n",
       "      <td>-0.178571</td>\n",
       "      <td>-0.088235</td>\n",
       "      <td>0.301075</td>\n",
       "      <td>0.000000</td>\n",
       "      <td>0.411765</td>\n",
       "      <td>0.081081</td>\n",
       "      <td>0.263158</td>\n",
       "      <td>-0.014183</td>\n",
       "    </tr>\n",
       "    <tr>\n",
       "      <th>9</th>\n",
       "      <td>Tamil Thalaivas</td>\n",
       "      <td>-0.044248</td>\n",
       "      <td>-0.5</td>\n",
       "      <td>0.192857</td>\n",
       "      <td>-0.039216</td>\n",
       "      <td>0.010753</td>\n",
       "      <td>-0.047619</td>\n",
       "      <td>0.176471</td>\n",
       "      <td>-0.108108</td>\n",
       "      <td>0.684211</td>\n",
       "      <td>-0.101074</td>\n",
       "    </tr>\n",
       "    <tr>\n",
       "      <th>10</th>\n",
       "      <td>Telugu Titans</td>\n",
       "      <td>-0.075221</td>\n",
       "      <td>-1.0</td>\n",
       "      <td>-0.135714</td>\n",
       "      <td>-0.049020</td>\n",
       "      <td>0.032258</td>\n",
       "      <td>0.190476</td>\n",
       "      <td>0.647059</td>\n",
       "      <td>-0.135135</td>\n",
       "      <td>0.263158</td>\n",
       "      <td>-0.084420</td>\n",
       "    </tr>\n",
       "    <tr>\n",
       "      <th>11</th>\n",
       "      <td>U.P. Yoddha</td>\n",
       "      <td>-0.103982</td>\n",
       "      <td>-1.0</td>\n",
       "      <td>-0.253571</td>\n",
       "      <td>-0.294118</td>\n",
       "      <td>0.193548</td>\n",
       "      <td>0.000000</td>\n",
       "      <td>0.352941</td>\n",
       "      <td>0.081081</td>\n",
       "      <td>0.263158</td>\n",
       "      <td>-0.162076</td>\n",
       "    </tr>\n",
       "  </tbody>\n",
       "</table>\n",
       "</div>"
      ],
      "text/plain": [
       "                     Team  Total Points  MatchesPlayed  Total Points Conceded  \\\n",
       "0       Dabang Delhi K.C.      0.318584           -0.5               0.064286   \n",
       "1         Bengal Warriors      0.265487           -0.5              -0.064286   \n",
       "2           Patna Pirates      0.150442           -0.5               0.107143   \n",
       "3         Bengaluru Bulls      0.150442           -0.5               0.067857   \n",
       "4        Haryana Steelers      0.141593           -0.5               0.025000   \n",
       "5           Puneri Paltan      0.119469           -0.5               0.292857   \n",
       "6                 U Mumba      0.066372           -0.5              -0.192857   \n",
       "7    Jaipur Pink Panthers      0.061947           -0.5               0.010714   \n",
       "8   Gujarat Fortunegiants      0.015487           -0.5              -0.178571   \n",
       "9         Tamil Thalaivas     -0.044248           -0.5               0.192857   \n",
       "10          Telugu Titans     -0.075221           -1.0              -0.135714   \n",
       "11            U.P. Yoddha     -0.103982           -1.0              -0.253571   \n",
       "\n",
       "    Successful Raids  Successful Tackles  Super Raid  Super Tackles  \\\n",
       "0           0.382353            0.236559    0.142857      -0.117647   \n",
       "1           0.279412            0.247312    0.476190       0.117647   \n",
       "2           0.098039            0.161290    0.380952       0.823529   \n",
       "3           0.127451            0.096774    0.142857       0.882353   \n",
       "4           0.034314            0.236559    0.428571       0.235294   \n",
       "5           0.034314            0.516129    0.047619       0.882353   \n",
       "6          -0.049020            0.161290    0.095238       0.529412   \n",
       "7          -0.107843            0.322581    0.095238       1.294118   \n",
       "8          -0.088235            0.301075    0.000000       0.411765   \n",
       "9          -0.039216            0.010753   -0.047619       0.176471   \n",
       "10         -0.049020            0.032258    0.190476       0.647059   \n",
       "11         -0.294118            0.193548    0.000000       0.352941   \n",
       "\n",
       "    Inflicted  Conceded  Predicted  \n",
       "0    0.432432  0.052632   0.189428  \n",
       "1    0.432432  0.000000   0.222394  \n",
       "2    0.270270  0.368421   0.179262  \n",
       "3    0.135135  0.421053   0.128139  \n",
       "4    0.270270  0.315789   0.102822  \n",
       "5    0.000000  0.842105   0.088450  \n",
       "6    0.243243  0.210526   0.051400  \n",
       "7    0.027027  0.315789   0.079669  \n",
       "8    0.081081  0.263158  -0.014183  \n",
       "9   -0.108108  0.684211  -0.101074  \n",
       "10  -0.135135  0.263158  -0.084420  \n",
       "11   0.081081  0.263158  -0.162076  "
      ]
     },
     "execution_count": 15,
     "metadata": {},
     "output_type": "execute_result"
    }
   ],
   "source": [
    "S7_pred=S7\n",
    "S7_pred['Predicted']=y_pred_test_S7\n",
    "S7_pred"
   ]
  },
  {
   "cell_type": "markdown",
   "metadata": {},
   "source": [
    "## Bengal Warriors - Team winner"
   ]
  },
  {
   "cell_type": "markdown",
   "metadata": {},
   "source": [
    "## Successful Raids prediction"
   ]
  },
  {
   "cell_type": "code",
   "execution_count": 16,
   "metadata": {},
   "outputs": [
    {
     "name": "stdout",
     "output_type": "stream",
     "text": [
      "                            OLS Regression Results                            \n",
      "==============================================================================\n",
      "Dep. Variable:       Successful Raids   R-squared:                       0.993\n",
      "Model:                            OLS   Adj. R-squared:                  0.973\n",
      "Method:                 Least Squares   F-statistic:                     49.92\n",
      "Date:                Wed, 02 Oct 2019   Prob (F-statistic):            0.00417\n",
      "Time:                        12:06:54   Log-Likelihood:                 28.968\n",
      "No. Observations:                  12   AIC:                            -39.94\n",
      "Df Residuals:                       3   BIC:                            -35.57\n",
      "Df Model:                           8                                         \n",
      "Covariance Type:            nonrobust                                         \n",
      "=========================================================================================\n",
      "                            coef    std err          t      P>|t|      [0.025      0.975]\n",
      "-----------------------------------------------------------------------------------------\n",
      "const                     0.1531      0.086      1.784      0.172      -0.120       0.426\n",
      "MatchesPlayed            -0.1980      0.174     -1.141      0.337      -0.750       0.354\n",
      "Total Points Conceded     0.0855      0.194      0.441      0.689      -0.532       0.703\n",
      "Total Points              2.6194      0.336      7.807      0.004       1.552       3.687\n",
      "Successful Tackles       -0.3594      0.153     -2.352      0.100      -0.846       0.127\n",
      "Super Raid               -0.3535      0.077     -4.568      0.020      -0.600      -0.107\n",
      "Super Tackles            -0.2228      0.099     -2.253      0.110      -0.538       0.092\n",
      "Inflicted                -0.7198      0.201     -3.587      0.037      -1.359      -0.081\n",
      "Conceded                 -0.1682      0.126     -1.334      0.274      -0.569       0.233\n",
      "==============================================================================\n",
      "Omnibus:                        1.915   Durbin-Watson:                   2.464\n",
      "Prob(Omnibus):                  0.384   Jarque-Bera (JB):                1.390\n",
      "Skew:                          -0.742   Prob(JB):                        0.499\n",
      "Kurtosis:                       2.239   Cond. No.                         45.2\n",
      "==============================================================================\n",
      "\n",
      "Warnings:\n",
      "[1] Standard Errors assume that the covariance matrix of the errors is correctly specified.\n"
     ]
    },
    {
     "name": "stderr",
     "output_type": "stream",
     "text": [
      "C:\\Users\\cjyothsna\\AppData\\Local\\Continuum\\anaconda3\\lib\\site-packages\\scipy\\stats\\stats.py:1416: UserWarning: kurtosistest only valid for n>=20 ... continuing anyway, n=12\n",
      "  \"anyway, n=%i\" % int(n))\n"
     ]
    }
   ],
   "source": [
    "X_train=S5[['MatchesPlayed','Total Points Conceded','Total Points','Successful Tackles','Super Raid','Super Tackles','Inflicted','Conceded']]\n",
    "\n",
    "y_train=S5['Successful Raids']\n",
    "\n",
    "import statsmodels.api as sm\n",
    "X_train_lm = sm.add_constant(X_train)\n",
    "\n",
    "lr_1 = sm.OLS(y_train, X_train_lm).fit()\n",
    "\n",
    "print(lr_1.summary())\n",
    "\n"
   ]
  },
  {
   "cell_type": "code",
   "execution_count": 17,
   "metadata": {},
   "outputs": [
    {
     "name": "stdout",
     "output_type": "stream",
     "text": [
      "                            OLS Regression Results                            \n",
      "==============================================================================\n",
      "Dep. Variable:       Successful Raids   R-squared:                       0.992\n",
      "Model:                            OLS   Adj. R-squared:                  0.978\n",
      "Method:                 Least Squares   F-statistic:                     71.40\n",
      "Date:                Wed, 02 Oct 2019   Prob (F-statistic):           0.000490\n",
      "Time:                        12:06:56   Log-Likelihood:                 28.591\n",
      "No. Observations:                  12   AIC:                            -41.18\n",
      "Df Residuals:                       4   BIC:                            -37.30\n",
      "Df Model:                           7                                         \n",
      "Covariance Type:            nonrobust                                         \n",
      "======================================================================================\n",
      "                         coef    std err          t      P>|t|      [0.025      0.975]\n",
      "--------------------------------------------------------------------------------------\n",
      "const                  0.1568      0.076      2.053      0.109      -0.055       0.369\n",
      "MatchesPlayed         -0.1758      0.148     -1.184      0.302      -0.588       0.236\n",
      "Total Points           2.6703      0.281      9.486      0.001       1.889       3.452\n",
      "Successful Tackles    -0.3986      0.111     -3.591      0.023      -0.707      -0.090\n",
      "Super Raid            -0.3532      0.069     -5.107      0.007      -0.545      -0.161\n",
      "Super Tackles         -0.2125      0.086     -2.475      0.069      -0.451       0.026\n",
      "Inflicted             -0.7118      0.179     -3.985      0.016      -1.208      -0.216\n",
      "Conceded              -0.1455      0.103     -1.414      0.230      -0.431       0.140\n",
      "==============================================================================\n",
      "Omnibus:                        3.612   Durbin-Watson:                   2.746\n",
      "Prob(Omnibus):                  0.164   Jarque-Bera (JB):                2.187\n",
      "Skew:                          -1.034   Prob(JB):                        0.335\n",
      "Kurtosis:                       2.691   Cond. No.                         42.4\n",
      "==============================================================================\n",
      "\n",
      "Warnings:\n",
      "[1] Standard Errors assume that the covariance matrix of the errors is correctly specified.\n"
     ]
    },
    {
     "name": "stderr",
     "output_type": "stream",
     "text": [
      "C:\\Users\\cjyothsna\\AppData\\Local\\Continuum\\anaconda3\\lib\\site-packages\\scipy\\stats\\stats.py:1416: UserWarning: kurtosistest only valid for n>=20 ... continuing anyway, n=12\n",
      "  \"anyway, n=%i\" % int(n))\n"
     ]
    }
   ],
   "source": [
    "X = X_train.drop('Total Points Conceded', 1,)\n",
    "X_train_lm = sm.add_constant(X)\n",
    "\n",
    "lr_2 = sm.OLS(y_train, X_train_lm).fit()\n",
    "print(lr_2.summary())"
   ]
  },
  {
   "cell_type": "code",
   "execution_count": 18,
   "metadata": {},
   "outputs": [
    {
     "name": "stdout",
     "output_type": "stream",
     "text": [
      "                            OLS Regression Results                            \n",
      "==============================================================================\n",
      "Dep. Variable:       Successful Raids   R-squared:                       0.988\n",
      "Model:                            OLS   Adj. R-squared:                  0.974\n",
      "Method:                 Least Squares   F-statistic:                     69.13\n",
      "Date:                Wed, 02 Oct 2019   Prob (F-statistic):           0.000120\n",
      "Time:                        12:06:58   Log-Likelihood:                 26.158\n",
      "No. Observations:                  12   AIC:                            -38.32\n",
      "Df Residuals:                       5   BIC:                            -34.92\n",
      "Df Model:                           6                                         \n",
      "Covariance Type:            nonrobust                                         \n",
      "======================================================================================\n",
      "                         coef    std err          t      P>|t|      [0.025      0.975]\n",
      "--------------------------------------------------------------------------------------\n",
      "const                  0.0548      0.028      1.988      0.103      -0.016       0.126\n",
      "MatchesPlayed         -0.2771      0.142     -1.947      0.109      -0.643       0.089\n",
      "Total Points           2.6397      0.307      8.586      0.000       1.849       3.430\n",
      "Successful Tackles    -0.2684      0.068     -3.952      0.011      -0.443      -0.094\n",
      "Super Raid            -0.3348      0.074     -4.500      0.006      -0.526      -0.144\n",
      "Super Tackles         -0.2852      0.075     -3.786      0.013      -0.479      -0.092\n",
      "Inflicted             -0.6002      0.176     -3.419      0.019      -1.051      -0.149\n",
      "==============================================================================\n",
      "Omnibus:                        0.572   Durbin-Watson:                   2.513\n",
      "Prob(Omnibus):                  0.751   Jarque-Bera (JB):                0.012\n",
      "Skew:                          -0.076   Prob(JB):                        0.994\n",
      "Kurtosis:                       2.966   Cond. No.                         39.4\n",
      "==============================================================================\n",
      "\n",
      "Warnings:\n",
      "[1] Standard Errors assume that the covariance matrix of the errors is correctly specified.\n"
     ]
    },
    {
     "name": "stderr",
     "output_type": "stream",
     "text": [
      "C:\\Users\\cjyothsna\\AppData\\Local\\Continuum\\anaconda3\\lib\\site-packages\\scipy\\stats\\stats.py:1416: UserWarning: kurtosistest only valid for n>=20 ... continuing anyway, n=12\n",
      "  \"anyway, n=%i\" % int(n))\n"
     ]
    }
   ],
   "source": [
    "X = X.drop('Conceded', 1,)\n",
    "X_train_lm = sm.add_constant(X)\n",
    "\n",
    "lr_2 = sm.OLS(y_train, X_train_lm).fit()\n",
    "print(lr_2.summary())"
   ]
  },
  {
   "cell_type": "code",
   "execution_count": 19,
   "metadata": {},
   "outputs": [
    {
     "data": {
      "text/plain": [
       "Text(0.5, 0, 'Errors')"
      ]
     },
     "execution_count": 19,
     "metadata": {},
     "output_type": "execute_result"
    },
    {
     "data": {
      "image/png": "[encoded data removed]",
      "text/plain": [
       "<Figure size 432x288 with 1 Axes>"
      ]
     },
     "metadata": {
      "needs_background": "light"
     },
     "output_type": "display_data"
    }
   ],
   "source": [
    "y_train_pred=lr_2.predict(X_train_lm)\n",
    "import matplotlib.pyplot as plt\n",
    "import seaborn as sns\n",
    "fig = plt.figure()\n",
    "sns.distplot((y_train - y_train_pred), bins = 20)\n",
    "fig.suptitle('Error Terms', fontsize = 20)                  # Plot heading \n",
    "plt.xlabel('Errors', fontsize = 18) "
   ]
  },
  {
   "cell_type": "code",
   "execution_count": 20,
   "metadata": {},
   "outputs": [
    {
     "data": {
      "text/plain": [
       "Text(0, 0.5, 'y_pred')"
      ]
     },
     "execution_count": 20,
     "metadata": {},
     "output_type": "execute_result"
    },
    {
     "data": {
      "image/png": "[encoded data removed]",
      "text/plain": [
       "<Figure size 432x288 with 1 Axes>"
      ]
     },
     "metadata": {
      "needs_background": "light"
     },
     "output_type": "display_data"
    }
   ],
   "source": [
    "#S6_var=['MatchesPlayed','Total Points Conceded','Successful Raids','Successful Tackles','Super Raid','Super Tackles','Inflicted','Conceded','Total Points']\n",
    "#S6[S6_var]=scaler.transform(S6[S6_var])\n",
    "X_test_S6=S6[['MatchesPlayed','Total Points Conceded','Total Points','Successful Tackles','Super Raid','Super Tackles','Inflicted','Conceded']]\n",
    "y_test_S6=S6['Successful Raids'] \n",
    "X_test_m6=sm.add_constant(X_test_S6)\n",
    "X_test_m6=X_test_m6.drop(['Total Points Conceded','Conceded'],1)\n",
    "y_pred_test_S6=lr_2.predict(X_test_m6)\n",
    "fig = plt.figure()\n",
    "plt.scatter(y_test_S6, y_pred_test_S6)\n",
    "fig.suptitle('y_test vs y_pred', fontsize = 20)              # Plot heading \n",
    "plt.xlabel('y_test', fontsize = 18)                          # X-label\n",
    "plt.ylabel('y_pred', fontsize = 16) "
   ]
  },
  {
   "cell_type": "code",
   "execution_count": 21,
   "metadata": {},
   "outputs": [
    {
     "data": {
      "text/plain": [
       "Text(0, 0.5, 'y_pred')"
      ]
     },
     "execution_count": 21,
     "metadata": {},
     "output_type": "execute_result"
    },
    {
     "data": {
      "image/png": "[encoded data removed]",
      "text/plain": [
       "<Figure size 432x288 with 1 Axes>"
      ]
     },
     "metadata": {
      "needs_background": "light"
     },
     "output_type": "display_data"
    }
   ],
   "source": [
    "X_test_S7=S7[['MatchesPlayed','Total Points Conceded','Total Points','Successful Tackles','Super Raid','Super Tackles','Inflicted','Conceded']]\n",
    "y_test_S7=S7['Successful Raids'] \n",
    "X_test_m7=sm.add_constant(X_test_S7)\n",
    "X_test_m7=X_test_m7.drop(['Total Points Conceded','Conceded'],1)\n",
    "y_pred_test_S7=lr_2.predict(X_test_m7)\n",
    "fig = plt.figure()\n",
    "plt.scatter(y_test_S7, y_pred_test_S7)\n",
    "fig.suptitle('y_test vs y_pred', fontsize = 20)              # Plot heading \n",
    "plt.xlabel('y_test', fontsize = 18)                          # X-label\n",
    "plt.ylabel('y_pred', fontsize = 16) "
   ]
  },
  {
   "cell_type": "code",
   "execution_count": 22,
   "metadata": {},
   "outputs": [
    {
     "data": {
      "text/html": [
       "<div>\n",
       "<style scoped>\n",
       "    .dataframe tbody tr th:only-of-type {\n",
       "        vertical-align: middle;\n",
       "    }\n",
       "\n",
       "    .dataframe tbody tr th {\n",
       "        vertical-align: top;\n",
       "    }\n",
       "\n",
       "    .dataframe thead th {\n",
       "        text-align: right;\n",
       "    }\n",
       "</style>\n",
       "<table border=\"1\" class=\"dataframe\">\n",
       "  <thead>\n",
       "    <tr style=\"text-align: right;\">\n",
       "      <th></th>\n",
       "      <th>Team</th>\n",
       "      <th>Total Points</th>\n",
       "      <th>MatchesPlayed</th>\n",
       "      <th>Total Points Conceded</th>\n",
       "      <th>Successful Raids</th>\n",
       "      <th>Successful Tackles</th>\n",
       "      <th>Super Raid</th>\n",
       "      <th>Super Tackles</th>\n",
       "      <th>Inflicted</th>\n",
       "      <th>Conceded</th>\n",
       "      <th>Predicted</th>\n",
       "    </tr>\n",
       "  </thead>\n",
       "  <tbody>\n",
       "    <tr>\n",
       "      <th>0</th>\n",
       "      <td>Dabang Delhi K.C.</td>\n",
       "      <td>0.318584</td>\n",
       "      <td>-0.5</td>\n",
       "      <td>0.064286</td>\n",
       "      <td>0.382353</td>\n",
       "      <td>0.236559</td>\n",
       "      <td>0.142857</td>\n",
       "      <td>-0.117647</td>\n",
       "      <td>0.432432</td>\n",
       "      <td>0.052632</td>\n",
       "      <td>0.697013</td>\n",
       "    </tr>\n",
       "    <tr>\n",
       "      <th>1</th>\n",
       "      <td>Bengal Warriors</td>\n",
       "      <td>0.265487</td>\n",
       "      <td>-0.5</td>\n",
       "      <td>-0.064286</td>\n",
       "      <td>0.279412</td>\n",
       "      <td>0.247312</td>\n",
       "      <td>0.476190</td>\n",
       "      <td>0.117647</td>\n",
       "      <td>0.432432</td>\n",
       "      <td>0.000000</td>\n",
       "      <td>0.375254</td>\n",
       "    </tr>\n",
       "    <tr>\n",
       "      <th>2</th>\n",
       "      <td>Patna Pirates</td>\n",
       "      <td>0.150442</td>\n",
       "      <td>-0.5</td>\n",
       "      <td>0.107143</td>\n",
       "      <td>0.098039</td>\n",
       "      <td>0.161290</td>\n",
       "      <td>0.380952</td>\n",
       "      <td>0.823529</td>\n",
       "      <td>0.270270</td>\n",
       "      <td>0.368421</td>\n",
       "      <td>0.022567</td>\n",
       "    </tr>\n",
       "    <tr>\n",
       "      <th>3</th>\n",
       "      <td>Bengaluru Bulls</td>\n",
       "      <td>0.150442</td>\n",
       "      <td>-0.5</td>\n",
       "      <td>0.067857</td>\n",
       "      <td>0.127451</td>\n",
       "      <td>0.096774</td>\n",
       "      <td>0.142857</td>\n",
       "      <td>0.882353</td>\n",
       "      <td>0.135135</td>\n",
       "      <td>0.421053</td>\n",
       "      <td>0.183930</td>\n",
       "    </tr>\n",
       "    <tr>\n",
       "      <th>4</th>\n",
       "      <td>Haryana Steelers</td>\n",
       "      <td>0.141593</td>\n",
       "      <td>-0.5</td>\n",
       "      <td>0.025000</td>\n",
       "      <td>0.034314</td>\n",
       "      <td>0.236559</td>\n",
       "      <td>0.428571</td>\n",
       "      <td>0.235294</td>\n",
       "      <td>0.270270</td>\n",
       "      <td>0.315789</td>\n",
       "      <td>0.130811</td>\n",
       "    </tr>\n",
       "    <tr>\n",
       "      <th>5</th>\n",
       "      <td>Puneri Paltan</td>\n",
       "      <td>0.119469</td>\n",
       "      <td>-0.5</td>\n",
       "      <td>0.292857</td>\n",
       "      <td>0.034314</td>\n",
       "      <td>0.516129</td>\n",
       "      <td>0.047619</td>\n",
       "      <td>0.882353</td>\n",
       "      <td>0.000000</td>\n",
       "      <td>0.842105</td>\n",
       "      <td>0.102616</td>\n",
       "    </tr>\n",
       "    <tr>\n",
       "      <th>6</th>\n",
       "      <td>U Mumba</td>\n",
       "      <td>0.066372</td>\n",
       "      <td>-0.5</td>\n",
       "      <td>-0.192857</td>\n",
       "      <td>-0.049020</td>\n",
       "      <td>0.161290</td>\n",
       "      <td>0.095238</td>\n",
       "      <td>0.529412</td>\n",
       "      <td>0.243243</td>\n",
       "      <td>0.210526</td>\n",
       "      <td>-0.003595</td>\n",
       "    </tr>\n",
       "    <tr>\n",
       "      <th>7</th>\n",
       "      <td>Jaipur Pink Panthers</td>\n",
       "      <td>0.061947</td>\n",
       "      <td>-0.5</td>\n",
       "      <td>0.010714</td>\n",
       "      <td>-0.107843</td>\n",
       "      <td>0.322581</td>\n",
       "      <td>0.095238</td>\n",
       "      <td>1.294118</td>\n",
       "      <td>0.027027</td>\n",
       "      <td>0.315789</td>\n",
       "      <td>-0.146873</td>\n",
       "    </tr>\n",
       "    <tr>\n",
       "      <th>8</th>\n",
       "      <td>Gujarat Fortunegiants</td>\n",
       "      <td>0.015487</td>\n",
       "      <td>-0.5</td>\n",
       "      <td>-0.178571</td>\n",
       "      <td>-0.088235</td>\n",
       "      <td>0.301075</td>\n",
       "      <td>0.000000</td>\n",
       "      <td>0.411765</td>\n",
       "      <td>0.081081</td>\n",
       "      <td>0.263158</td>\n",
       "      <td>-0.012670</td>\n",
       "    </tr>\n",
       "    <tr>\n",
       "      <th>9</th>\n",
       "      <td>Tamil Thalaivas</td>\n",
       "      <td>-0.044248</td>\n",
       "      <td>-0.5</td>\n",
       "      <td>0.192857</td>\n",
       "      <td>-0.039216</td>\n",
       "      <td>0.010753</td>\n",
       "      <td>-0.047619</td>\n",
       "      <td>0.176471</td>\n",
       "      <td>-0.108108</td>\n",
       "      <td>0.684211</td>\n",
       "      <td>0.104148</td>\n",
       "    </tr>\n",
       "    <tr>\n",
       "      <th>10</th>\n",
       "      <td>Telugu Titans</td>\n",
       "      <td>-0.075221</td>\n",
       "      <td>-1.0</td>\n",
       "      <td>-0.135714</td>\n",
       "      <td>-0.049020</td>\n",
       "      <td>0.032258</td>\n",
       "      <td>0.190476</td>\n",
       "      <td>0.647059</td>\n",
       "      <td>-0.135135</td>\n",
       "      <td>0.263158</td>\n",
       "      <td>-0.042525</td>\n",
       "    </tr>\n",
       "    <tr>\n",
       "      <th>11</th>\n",
       "      <td>U.P. Yoddha</td>\n",
       "      <td>-0.103982</td>\n",
       "      <td>-1.0</td>\n",
       "      <td>-0.253571</td>\n",
       "      <td>-0.294118</td>\n",
       "      <td>0.193548</td>\n",
       "      <td>0.000000</td>\n",
       "      <td>0.352941</td>\n",
       "      <td>0.081081</td>\n",
       "      <td>0.263158</td>\n",
       "      <td>-0.143841</td>\n",
       "    </tr>\n",
       "  </tbody>\n",
       "</table>\n",
       "</div>"
      ],
      "text/plain": [
       "                     Team  Total Points  MatchesPlayed  Total Points Conceded  \\\n",
       "0       Dabang Delhi K.C.      0.318584           -0.5               0.064286   \n",
       "1         Bengal Warriors      0.265487           -0.5              -0.064286   \n",
       "2           Patna Pirates      0.150442           -0.5               0.107143   \n",
       "3         Bengaluru Bulls      0.150442           -0.5               0.067857   \n",
       "4        Haryana Steelers      0.141593           -0.5               0.025000   \n",
       "5           Puneri Paltan      0.119469           -0.5               0.292857   \n",
       "6                 U Mumba      0.066372           -0.5              -0.192857   \n",
       "7    Jaipur Pink Panthers      0.061947           -0.5               0.010714   \n",
       "8   Gujarat Fortunegiants      0.015487           -0.5              -0.178571   \n",
       "9         Tamil Thalaivas     -0.044248           -0.5               0.192857   \n",
       "10          Telugu Titans     -0.075221           -1.0              -0.135714   \n",
       "11            U.P. Yoddha     -0.103982           -1.0              -0.253571   \n",
       "\n",
       "    Successful Raids  Successful Tackles  Super Raid  Super Tackles  \\\n",
       "0           0.382353            0.236559    0.142857      -0.117647   \n",
       "1           0.279412            0.247312    0.476190       0.117647   \n",
       "2           0.098039            0.161290    0.380952       0.823529   \n",
       "3           0.127451            0.096774    0.142857       0.882353   \n",
       "4           0.034314            0.236559    0.428571       0.235294   \n",
       "5           0.034314            0.516129    0.047619       0.882353   \n",
       "6          -0.049020            0.161290    0.095238       0.529412   \n",
       "7          -0.107843            0.322581    0.095238       1.294118   \n",
       "8          -0.088235            0.301075    0.000000       0.411765   \n",
       "9          -0.039216            0.010753   -0.047619       0.176471   \n",
       "10         -0.049020            0.032258    0.190476       0.647059   \n",
       "11         -0.294118            0.193548    0.000000       0.352941   \n",
       "\n",
       "    Inflicted  Conceded  Predicted  \n",
       "0    0.432432  0.052632   0.697013  \n",
       "1    0.432432  0.000000   0.375254  \n",
       "2    0.270270  0.368421   0.022567  \n",
       "3    0.135135  0.421053   0.183930  \n",
       "4    0.270270  0.315789   0.130811  \n",
       "5    0.000000  0.842105   0.102616  \n",
       "6    0.243243  0.210526  -0.003595  \n",
       "7    0.027027  0.315789  -0.146873  \n",
       "8    0.081081  0.263158  -0.012670  \n",
       "9   -0.108108  0.684211   0.104148  \n",
       "10  -0.135135  0.263158  -0.042525  \n",
       "11   0.081081  0.263158  -0.143841  "
      ]
     },
     "execution_count": 22,
     "metadata": {},
     "output_type": "execute_result"
    }
   ],
   "source": [
    "S7_pred=S7\n",
    "S7_pred['Predicted']=y_pred_test_S7\n",
    "S7_pred"
   ]
  },
  {
   "cell_type": "markdown",
   "metadata": {},
   "source": [
    "## Most Successful Raids : Dabang Delhi K.C"
   ]
  },
  {
   "cell_type": "markdown",
   "metadata": {},
   "source": [
    "## Successful Tackles Prediction"
   ]
  },
  {
   "cell_type": "code",
   "execution_count": 23,
   "metadata": {},
   "outputs": [
    {
     "name": "stdout",
     "output_type": "stream",
     "text": [
      "                            OLS Regression Results                            \n",
      "==============================================================================\n",
      "Dep. Variable:     Successful Tackles   R-squared:                       0.975\n",
      "Model:                            OLS   Adj. R-squared:                  0.909\n",
      "Method:                 Least Squares   F-statistic:                     14.77\n",
      "Date:                Wed, 02 Oct 2019   Prob (F-statistic):             0.0245\n",
      "Time:                        12:07:13   Log-Likelihood:                 19.287\n",
      "No. Observations:                  12   AIC:                            -20.57\n",
      "Df Residuals:                       3   BIC:                            -16.21\n",
      "Df Model:                           8                                         \n",
      "Covariance Type:            nonrobust                                         \n",
      "=========================================================================================\n",
      "                            coef    std err          t      P>|t|      [0.025      0.975]\n",
      "-----------------------------------------------------------------------------------------\n",
      "const                     0.4288      0.122      3.508      0.039       0.040       0.818\n",
      "MatchesPlayed            -0.0853      0.463     -0.184      0.866      -1.559       1.388\n",
      "Total Points Conceded    -0.1058      0.444     -0.238      0.827      -1.520       1.308\n",
      "Total Points              4.8001      2.090      2.297      0.105      -1.850      11.451\n",
      "Successful Raids         -1.8042      0.767     -2.352      0.100      -4.246       0.637\n",
      "Super Raid               -0.6748      0.296     -2.282      0.107      -1.616       0.266\n",
      "Super Tackles            -0.2475      0.334     -0.740      0.513      -1.312       0.817\n",
      "Inflicted                -1.3413      0.685     -1.957      0.145      -3.522       0.840\n",
      "Conceded                 -0.4132      0.265     -1.560      0.217      -1.256       0.430\n",
      "==============================================================================\n",
      "Omnibus:                        1.220   Durbin-Watson:                   2.590\n",
      "Prob(Omnibus):                  0.543   Jarque-Bera (JB):                0.977\n",
      "Skew:                          -0.551   Prob(JB):                        0.613\n",
      "Kurtosis:                       2.141   Cond. No.                         126.\n",
      "==============================================================================\n",
      "\n",
      "Warnings:\n",
      "[1] Standard Errors assume that the covariance matrix of the errors is correctly specified.\n"
     ]
    },
    {
     "name": "stderr",
     "output_type": "stream",
     "text": [
      "C:\\Users\\cjyothsna\\AppData\\Local\\Continuum\\anaconda3\\lib\\site-packages\\scipy\\stats\\stats.py:1416: UserWarning: kurtosistest only valid for n>=20 ... continuing anyway, n=12\n",
      "  \"anyway, n=%i\" % int(n))\n"
     ]
    }
   ],
   "source": [
    "X_train=S5[['MatchesPlayed','Total Points Conceded','Total Points','Successful Raids','Super Raid','Super Tackles','Inflicted','Conceded']]\n",
    "\n",
    "y_train=S5['Successful Tackles']\n",
    "\n",
    "import statsmodels.api as sm\n",
    "X_train_lm = sm.add_constant(X_train)\n",
    "\n",
    "lr_1 = sm.OLS(y_train, X_train_lm).fit()\n",
    "\n",
    "print(lr_1.summary())"
   ]
  },
  {
   "cell_type": "code",
   "execution_count": 24,
   "metadata": {},
   "outputs": [
    {
     "name": "stdout",
     "output_type": "stream",
     "text": [
      "                            OLS Regression Results                            \n",
      "==============================================================================\n",
      "Dep. Variable:     Successful Tackles   R-squared:                       0.975\n",
      "Model:                            OLS   Adj. R-squared:                  0.931\n",
      "Method:                 Least Squares   F-statistic:                     22.08\n",
      "Date:                Wed, 02 Oct 2019   Prob (F-statistic):            0.00481\n",
      "Time:                        12:07:15   Log-Likelihood:                 19.174\n",
      "No. Observations:                  12   AIC:                            -22.35\n",
      "Df Residuals:                       4   BIC:                            -18.47\n",
      "Df Model:                           7                                         \n",
      "Covariance Type:            nonrobust                                         \n",
      "====================================================================================\n",
      "                       coef    std err          t      P>|t|      [0.025      0.975]\n",
      "------------------------------------------------------------------------------------\n",
      "const                0.4444      0.090      4.916      0.008       0.193       0.695\n",
      "MatchesPlayed       -0.1285      0.373     -0.345      0.748      -1.163       0.906\n",
      "Total Points         5.0313      1.618      3.110      0.036       0.540       9.522\n",
      "Successful Raids    -1.9149      0.533     -3.591      0.023      -3.395      -0.435\n",
      "Super Raid          -0.7150      0.212     -3.372      0.028      -1.304      -0.126\n",
      "Super Tackles       -0.2816      0.264     -1.066      0.347      -1.015       0.452\n",
      "Inflicted           -1.4313      0.500     -2.865      0.046      -2.818      -0.044\n",
      "Conceded            -0.4607      0.152     -3.023      0.039      -0.884      -0.038\n",
      "==============================================================================\n",
      "Omnibus:                        1.321   Durbin-Watson:                   2.462\n",
      "Prob(Omnibus):                  0.517   Jarque-Bera (JB):                1.010\n",
      "Skew:                          -0.517   Prob(JB):                        0.603\n",
      "Kurtosis:                       2.025   Cond. No.                         105.\n",
      "==============================================================================\n",
      "\n",
      "Warnings:\n",
      "[1] Standard Errors assume that the covariance matrix of the errors is correctly specified.\n"
     ]
    },
    {
     "name": "stderr",
     "output_type": "stream",
     "text": [
      "C:\\Users\\cjyothsna\\AppData\\Local\\Continuum\\anaconda3\\lib\\site-packages\\scipy\\stats\\stats.py:1416: UserWarning: kurtosistest only valid for n>=20 ... continuing anyway, n=12\n",
      "  \"anyway, n=%i\" % int(n))\n"
     ]
    }
   ],
   "source": [
    "X = X_train.drop('Total Points Conceded', 1,)\n",
    "X_train_lm = sm.add_constant(X)\n",
    "\n",
    "lr_2 = sm.OLS(y_train, X_train_lm).fit()\n",
    "print(lr_2.summary())"
   ]
  },
  {
   "cell_type": "code",
   "execution_count": 25,
   "metadata": {},
   "outputs": [
    {
     "name": "stdout",
     "output_type": "stream",
     "text": [
      "                            OLS Regression Results                            \n",
      "==============================================================================\n",
      "Dep. Variable:     Successful Tackles   R-squared:                       0.917\n",
      "Model:                            OLS   Adj. R-squared:                  0.818\n",
      "Method:                 Least Squares   F-statistic:                     9.223\n",
      "Date:                Wed, 02 Oct 2019   Prob (F-statistic):             0.0138\n",
      "Time:                        12:07:17   Log-Likelihood:                 12.040\n",
      "No. Observations:                  12   AIC:                            -10.08\n",
      "Df Residuals:                       5   BIC:                            -6.685\n",
      "Df Model:                           6                                         \n",
      "Covariance Type:            nonrobust                                         \n",
      "====================================================================================\n",
      "                       coef    std err          t      P>|t|      [0.025      0.975]\n",
      "------------------------------------------------------------------------------------\n",
      "const                0.2091      0.074      2.807      0.038       0.018       0.401\n",
      "MatchesPlayed       -0.5150      0.567     -0.908      0.406      -1.973       0.943\n",
      "Total Points         7.0552      2.387      2.956      0.032       0.920      13.190\n",
      "Successful Raids    -2.8226      0.714     -3.952      0.011      -4.659      -0.987\n",
      "Super Raid          -0.9969      0.309     -3.229      0.023      -1.791      -0.203\n",
      "Super Tackles       -0.6921      0.367     -1.884      0.118      -1.636       0.252\n",
      "Inflicted           -1.4597      0.810     -1.803      0.131      -3.541       0.622\n",
      "==============================================================================\n",
      "Omnibus:                        0.267   Durbin-Watson:                   2.594\n",
      "Prob(Omnibus):                  0.875   Jarque-Bera (JB):                0.261\n",
      "Skew:                          -0.261   Prob(JB):                        0.878\n",
      "Kurtosis:                       2.500   Cond. No.                         88.5\n",
      "==============================================================================\n",
      "\n",
      "Warnings:\n",
      "[1] Standard Errors assume that the covariance matrix of the errors is correctly specified.\n"
     ]
    },
    {
     "name": "stderr",
     "output_type": "stream",
     "text": [
      "C:\\Users\\cjyothsna\\AppData\\Local\\Continuum\\anaconda3\\lib\\site-packages\\scipy\\stats\\stats.py:1416: UserWarning: kurtosistest only valid for n>=20 ... continuing anyway, n=12\n",
      "  \"anyway, n=%i\" % int(n))\n"
     ]
    }
   ],
   "source": [
    "X = X.drop('Conceded', 1,)\n",
    "X_train_lm = sm.add_constant(X)\n",
    "\n",
    "lr_2 = sm.OLS(y_train, X_train_lm).fit()\n",
    "print(lr_2.summary())"
   ]
  },
  {
   "cell_type": "code",
   "execution_count": 26,
   "metadata": {},
   "outputs": [
    {
     "data": {
      "text/plain": [
       "Text(0.5, 0, 'Errors')"
      ]
     },
     "execution_count": 26,
     "metadata": {},
     "output_type": "execute_result"
    },
    {
     "data": {
      "image/png": "[encoded data removed]",
      "text/plain": [
       "<Figure size 432x288 with 1 Axes>"
      ]
     },
     "metadata": {
      "needs_background": "light"
     },
     "output_type": "display_data"
    }
   ],
   "source": [
    "y_train_pred=lr_2.predict(X_train_lm)\n",
    "import matplotlib.pyplot as plt\n",
    "import seaborn as sns\n",
    "fig = plt.figure()\n",
    "sns.distplot((y_train - y_train_pred), bins = 20)\n",
    "fig.suptitle('Error Terms', fontsize = 20)                  # Plot heading \n",
    "plt.xlabel('Errors', fontsize = 18) "
   ]
  },
  {
   "cell_type": "code",
   "execution_count": 27,
   "metadata": {},
   "outputs": [
    {
     "data": {
      "text/plain": [
       "Text(0, 0.5, 'y_pred')"
      ]
     },
     "execution_count": 27,
     "metadata": {},
     "output_type": "execute_result"
    },
    {
     "data": {
      "image/png": "[encoded data removed]",
      "text/plain": [
       "<Figure size 432x288 with 1 Axes>"
      ]
     },
     "metadata": {
      "needs_background": "light"
     },
     "output_type": "display_data"
    }
   ],
   "source": [
    "X_test_S6=S6[['MatchesPlayed','Total Points Conceded','Total Points','Successful Raids','Super Raid','Super Tackles','Inflicted','Conceded']]\n",
    "y_test_S6=S6['Successful Tackles'] \n",
    "X_test_m6=sm.add_constant(X_test_S6)\n",
    "X_test_m6=X_test_m6.drop(['Total Points Conceded','Conceded'],1)\n",
    "y_pred_test_S6=lr_2.predict(X_test_m6)\n",
    "fig = plt.figure()\n",
    "plt.scatter(y_test_S6, y_pred_test_S6)\n",
    "fig.suptitle('y_test vs y_pred', fontsize = 20)              # Plot heading \n",
    "plt.xlabel('y_test', fontsize = 18)                          # X-label\n",
    "plt.ylabel('y_pred', fontsize = 16) "
   ]
  },
  {
   "cell_type": "code",
   "execution_count": 28,
   "metadata": {},
   "outputs": [
    {
     "data": {
      "text/plain": [
       "0     0.871753\n",
       "1     1.380799\n",
       "2     1.290365\n",
       "3     0.437924\n",
       "4     0.894222\n",
       "5     0.642116\n",
       "6     0.310320\n",
       "7     0.499174\n",
       "8     0.119021\n",
       "9     0.127133\n",
       "10    0.049444\n",
       "11   -0.235321\n",
       "dtype: float64"
      ]
     },
     "execution_count": 28,
     "metadata": {},
     "output_type": "execute_result"
    }
   ],
   "source": [
    "y_pred_test_S6"
   ]
  },
  {
   "cell_type": "code",
   "execution_count": 29,
   "metadata": {},
   "outputs": [
    {
     "data": {
      "text/plain": [
       "Text(0, 0.5, 'y_pred')"
      ]
     },
     "execution_count": 29,
     "metadata": {},
     "output_type": "execute_result"
    },
    {
     "data": {
      "image/png": "[encoded data removed]",
      "text/plain": [
       "<Figure size 432x288 with 1 Axes>"
      ]
     },
     "metadata": {
      "needs_background": "light"
     },
     "output_type": "display_data"
    }
   ],
   "source": [
    "X_test_S7=S7[['MatchesPlayed','Total Points Conceded','Total Points','Successful Raids','Super Raid','Super Tackles','Inflicted','Conceded']]\n",
    "y_test_S7=S7['Successful Tackles'] \n",
    "X_test_m7=sm.add_constant(X_test_S7)\n",
    "X_test_m7=X_test_m7.drop(['Total Points Conceded','Conceded'],1)\n",
    "y_pred_test_S7=lr_2.predict(X_test_m7)\n",
    "fig = plt.figure()\n",
    "plt.scatter(y_test_S7, y_pred_test_S7)\n",
    "fig.suptitle('y_test vs y_pred', fontsize = 20)              # Plot heading \n",
    "plt.xlabel('y_test', fontsize = 18)                          # X-label\n",
    "plt.ylabel('y_pred', fontsize = 16) "
   ]
  },
  {
   "cell_type": "code",
   "execution_count": 30,
   "metadata": {},
   "outputs": [
    {
     "data": {
      "text/html": [
       "<div>\n",
       "<style scoped>\n",
       "    .dataframe tbody tr th:only-of-type {\n",
       "        vertical-align: middle;\n",
       "    }\n",
       "\n",
       "    .dataframe tbody tr th {\n",
       "        vertical-align: top;\n",
       "    }\n",
       "\n",
       "    .dataframe thead th {\n",
       "        text-align: right;\n",
       "    }\n",
       "</style>\n",
       "<table border=\"1\" class=\"dataframe\">\n",
       "  <thead>\n",
       "    <tr style=\"text-align: right;\">\n",
       "      <th></th>\n",
       "      <th>Team</th>\n",
       "      <th>Total Points</th>\n",
       "      <th>MatchesPlayed</th>\n",
       "      <th>Total Points Conceded</th>\n",
       "      <th>Successful Raids</th>\n",
       "      <th>Successful Tackles</th>\n",
       "      <th>Super Raid</th>\n",
       "      <th>Super Tackles</th>\n",
       "      <th>Inflicted</th>\n",
       "      <th>Conceded</th>\n",
       "      <th>Predicted</th>\n",
       "    </tr>\n",
       "  </thead>\n",
       "  <tbody>\n",
       "    <tr>\n",
       "      <th>0</th>\n",
       "      <td>Dabang Delhi K.C.</td>\n",
       "      <td>0.318584</td>\n",
       "      <td>-0.5</td>\n",
       "      <td>0.064286</td>\n",
       "      <td>0.382353</td>\n",
       "      <td>0.236559</td>\n",
       "      <td>0.142857</td>\n",
       "      <td>-0.117647</td>\n",
       "      <td>0.432432</td>\n",
       "      <td>0.052632</td>\n",
       "      <td>0.942820</td>\n",
       "    </tr>\n",
       "    <tr>\n",
       "      <th>1</th>\n",
       "      <td>Bengal Warriors</td>\n",
       "      <td>0.265487</td>\n",
       "      <td>-0.5</td>\n",
       "      <td>-0.064286</td>\n",
       "      <td>0.279412</td>\n",
       "      <td>0.247312</td>\n",
       "      <td>0.476190</td>\n",
       "      <td>0.117647</td>\n",
       "      <td>0.432432</td>\n",
       "      <td>0.000000</td>\n",
       "      <td>0.363636</td>\n",
       "    </tr>\n",
       "    <tr>\n",
       "      <th>2</th>\n",
       "      <td>Patna Pirates</td>\n",
       "      <td>0.150442</td>\n",
       "      <td>-0.5</td>\n",
       "      <td>0.107143</td>\n",
       "      <td>0.098039</td>\n",
       "      <td>0.161290</td>\n",
       "      <td>0.380952</td>\n",
       "      <td>0.823529</td>\n",
       "      <td>0.270270</td>\n",
       "      <td>0.368421</td>\n",
       "      <td>-0.092966</td>\n",
       "    </tr>\n",
       "    <tr>\n",
       "      <th>3</th>\n",
       "      <td>Bengaluru Bulls</td>\n",
       "      <td>0.150442</td>\n",
       "      <td>-0.5</td>\n",
       "      <td>0.067857</td>\n",
       "      <td>0.127451</td>\n",
       "      <td>0.096774</td>\n",
       "      <td>0.142857</td>\n",
       "      <td>0.882353</td>\n",
       "      <td>0.135135</td>\n",
       "      <td>0.421053</td>\n",
       "      <td>0.217915</td>\n",
       "    </tr>\n",
       "    <tr>\n",
       "      <th>4</th>\n",
       "      <td>Haryana Steelers</td>\n",
       "      <td>0.141593</td>\n",
       "      <td>-0.5</td>\n",
       "      <td>0.025000</td>\n",
       "      <td>0.034314</td>\n",
       "      <td>0.236559</td>\n",
       "      <td>0.428571</td>\n",
       "      <td>0.235294</td>\n",
       "      <td>0.270270</td>\n",
       "      <td>0.315789</td>\n",
       "      <td>0.384111</td>\n",
       "    </tr>\n",
       "    <tr>\n",
       "      <th>5</th>\n",
       "      <td>Puneri Paltan</td>\n",
       "      <td>0.119469</td>\n",
       "      <td>-0.5</td>\n",
       "      <td>0.292857</td>\n",
       "      <td>0.034314</td>\n",
       "      <td>0.516129</td>\n",
       "      <td>0.047619</td>\n",
       "      <td>0.882353</td>\n",
       "      <td>0.000000</td>\n",
       "      <td>0.842105</td>\n",
       "      <td>0.554480</td>\n",
       "    </tr>\n",
       "    <tr>\n",
       "      <th>6</th>\n",
       "      <td>U Mumba</td>\n",
       "      <td>0.066372</td>\n",
       "      <td>-0.5</td>\n",
       "      <td>-0.192857</td>\n",
       "      <td>-0.049020</td>\n",
       "      <td>0.161290</td>\n",
       "      <td>0.095238</td>\n",
       "      <td>0.529412</td>\n",
       "      <td>0.243243</td>\n",
       "      <td>0.210526</td>\n",
       "      <td>0.256805</td>\n",
       "    </tr>\n",
       "    <tr>\n",
       "      <th>7</th>\n",
       "      <td>Jaipur Pink Panthers</td>\n",
       "      <td>0.061947</td>\n",
       "      <td>-0.5</td>\n",
       "      <td>0.010714</td>\n",
       "      <td>-0.107843</td>\n",
       "      <td>0.322581</td>\n",
       "      <td>0.095238</td>\n",
       "      <td>1.294118</td>\n",
       "      <td>0.027027</td>\n",
       "      <td>0.315789</td>\n",
       "      <td>0.178000</td>\n",
       "    </tr>\n",
       "    <tr>\n",
       "      <th>8</th>\n",
       "      <td>Gujarat Fortunegiants</td>\n",
       "      <td>0.015487</td>\n",
       "      <td>-0.5</td>\n",
       "      <td>-0.178571</td>\n",
       "      <td>-0.088235</td>\n",
       "      <td>0.301075</td>\n",
       "      <td>0.000000</td>\n",
       "      <td>0.411765</td>\n",
       "      <td>0.081081</td>\n",
       "      <td>0.263158</td>\n",
       "      <td>0.421566</td>\n",
       "    </tr>\n",
       "    <tr>\n",
       "      <th>9</th>\n",
       "      <td>Tamil Thalaivas</td>\n",
       "      <td>-0.044248</td>\n",
       "      <td>-0.5</td>\n",
       "      <td>0.192857</td>\n",
       "      <td>-0.039216</td>\n",
       "      <td>0.010753</td>\n",
       "      <td>-0.047619</td>\n",
       "      <td>0.176471</td>\n",
       "      <td>-0.108108</td>\n",
       "      <td>0.684211</td>\n",
       "      <td>0.348244</td>\n",
       "    </tr>\n",
       "    <tr>\n",
       "      <th>10</th>\n",
       "      <td>Telugu Titans</td>\n",
       "      <td>-0.075221</td>\n",
       "      <td>-1.0</td>\n",
       "      <td>-0.135714</td>\n",
       "      <td>-0.049020</td>\n",
       "      <td>0.032258</td>\n",
       "      <td>0.190476</td>\n",
       "      <td>0.647059</td>\n",
       "      <td>-0.135135</td>\n",
       "      <td>0.263158</td>\n",
       "      <td>-0.108695</td>\n",
       "    </tr>\n",
       "    <tr>\n",
       "      <th>11</th>\n",
       "      <td>U.P. Yoddha</td>\n",
       "      <td>-0.103982</td>\n",
       "      <td>-1.0</td>\n",
       "      <td>-0.253571</td>\n",
       "      <td>-0.294118</td>\n",
       "      <td>0.193548</td>\n",
       "      <td>0.000000</td>\n",
       "      <td>0.352941</td>\n",
       "      <td>0.081081</td>\n",
       "      <td>0.263158</td>\n",
       "      <td>0.458013</td>\n",
       "    </tr>\n",
       "  </tbody>\n",
       "</table>\n",
       "</div>"
      ],
      "text/plain": [
       "                     Team  Total Points  MatchesPlayed  Total Points Conceded  \\\n",
       "0       Dabang Delhi K.C.      0.318584           -0.5               0.064286   \n",
       "1         Bengal Warriors      0.265487           -0.5              -0.064286   \n",
       "2           Patna Pirates      0.150442           -0.5               0.107143   \n",
       "3         Bengaluru Bulls      0.150442           -0.5               0.067857   \n",
       "4        Haryana Steelers      0.141593           -0.5               0.025000   \n",
       "5           Puneri Paltan      0.119469           -0.5               0.292857   \n",
       "6                 U Mumba      0.066372           -0.5              -0.192857   \n",
       "7    Jaipur Pink Panthers      0.061947           -0.5               0.010714   \n",
       "8   Gujarat Fortunegiants      0.015487           -0.5              -0.178571   \n",
       "9         Tamil Thalaivas     -0.044248           -0.5               0.192857   \n",
       "10          Telugu Titans     -0.075221           -1.0              -0.135714   \n",
       "11            U.P. Yoddha     -0.103982           -1.0              -0.253571   \n",
       "\n",
       "    Successful Raids  Successful Tackles  Super Raid  Super Tackles  \\\n",
       "0           0.382353            0.236559    0.142857      -0.117647   \n",
       "1           0.279412            0.247312    0.476190       0.117647   \n",
       "2           0.098039            0.161290    0.380952       0.823529   \n",
       "3           0.127451            0.096774    0.142857       0.882353   \n",
       "4           0.034314            0.236559    0.428571       0.235294   \n",
       "5           0.034314            0.516129    0.047619       0.882353   \n",
       "6          -0.049020            0.161290    0.095238       0.529412   \n",
       "7          -0.107843            0.322581    0.095238       1.294118   \n",
       "8          -0.088235            0.301075    0.000000       0.411765   \n",
       "9          -0.039216            0.010753   -0.047619       0.176471   \n",
       "10         -0.049020            0.032258    0.190476       0.647059   \n",
       "11         -0.294118            0.193548    0.000000       0.352941   \n",
       "\n",
       "    Inflicted  Conceded  Predicted  \n",
       "0    0.432432  0.052632   0.942820  \n",
       "1    0.432432  0.000000   0.363636  \n",
       "2    0.270270  0.368421  -0.092966  \n",
       "3    0.135135  0.421053   0.217915  \n",
       "4    0.270270  0.315789   0.384111  \n",
       "5    0.000000  0.842105   0.554480  \n",
       "6    0.243243  0.210526   0.256805  \n",
       "7    0.027027  0.315789   0.178000  \n",
       "8    0.081081  0.263158   0.421566  \n",
       "9   -0.108108  0.684211   0.348244  \n",
       "10  -0.135135  0.263158  -0.108695  \n",
       "11   0.081081  0.263158   0.458013  "
      ]
     },
     "execution_count": 30,
     "metadata": {},
     "output_type": "execute_result"
    }
   ],
   "source": [
    "S7_pred=S7\n",
    "S7_pred['Predicted']=y_pred_test_S7\n",
    "S7_pred"
   ]
  },
  {
   "cell_type": "markdown",
   "metadata": {},
   "source": [
    "## Most Successful Tackles - Dabang Delhi K.C"
   ]
  },
  {
   "cell_type": "markdown",
   "metadata": {},
   "source": [
    "## Highest Super - Performance Total Prediction\n"
   ]
  },
  {
   "cell_type": "code",
   "execution_count": 74,
   "metadata": {},
   "outputs": [],
   "source": [
    "S5=pd.read_csv(r'I:\\Chandra J\\Python\\Kabbadi_Data\\Season5.csv')\n",
    "S6=pd.read_csv(r'I:\\Chandra J\\Python\\Kabbadi_Data\\Season6.csv')\n",
    "S7=pd.read_csv(r'I:\\Chandra J\\Python\\Kabbadi_Data\\Season7.csv')\n",
    "S5=S5.drop('Unnamed: 0',axis=1)\n",
    "S6=S6.drop('Unnamed: 0',axis=1)\n",
    "S7=S7.drop('Unnamed: 0',axis=1)"
   ]
  },
  {
   "cell_type": "code",
   "execution_count": 75,
   "metadata": {},
   "outputs": [],
   "source": [
    "S5['SuperPerformance']=S5['Super Raid']+S5['Super Tackles']+S5['Inflicted']-S5['Conceded']\n",
    "S6['SuperPerformance']=S6['Super Raid']+S6['Super Tackles']+S6['Inflicted']-S6['Conceded']\n",
    "S7['SuperPerformance']=S7['Super Raid']+S7['Super Tackles']+S7['Inflicted']-S7['Conceded']"
   ]
  },
  {
   "cell_type": "code",
   "execution_count": 76,
   "metadata": {},
   "outputs": [
    {
     "name": "stderr",
     "output_type": "stream",
     "text": [
      "C:\\Users\\cjyothsna\\AppData\\Local\\Continuum\\anaconda3\\lib\\site-packages\\sklearn\\preprocessing\\data.py:334: DataConversionWarning: Data with input dtype int64 were all converted to float64 by MinMaxScaler.\n",
      "  return self.partial_fit(X, y)\n"
     ]
    }
   ],
   "source": [
    "from sklearn.preprocessing import MinMaxScaler\n",
    "scaler = MinMaxScaler()\n",
    "\n",
    "var=['MatchesPlayed','Total Points Conceded','Successful Raids','Successful Tackles','Super Raid','Super Tackles','Inflicted','Conceded','Total Points','SuperPerformance']\n",
    "\n",
    "S5[var]=scaler.fit_transform(S5[var])"
   ]
  },
  {
   "cell_type": "code",
   "execution_count": 77,
   "metadata": {},
   "outputs": [],
   "source": [
    "\n",
    "X_train=S5[['MatchesPlayed','Total Points Conceded','Successful Raids','Successful Tackles','Super Raid','Super Tackles','Inflicted','Conceded','Total Points']]\n",
    "\n",
    "y_train=S5['SuperPerformance']"
   ]
  },
  {
   "cell_type": "code",
   "execution_count": 78,
   "metadata": {},
   "outputs": [
    {
     "name": "stdout",
     "output_type": "stream",
     "text": [
      "                            OLS Regression Results                            \n",
      "==============================================================================\n",
      "Dep. Variable:       SuperPerformance   R-squared:                       1.000\n",
      "Model:                            OLS   Adj. R-squared:                  1.000\n",
      "Method:                 Least Squares   F-statistic:                 6.152e+28\n",
      "Date:                Wed, 02 Oct 2019   Prob (F-statistic):           1.63e-29\n",
      "Time:                        12:25:20   Log-Likelihood:                 406.68\n",
      "No. Observations:                  12   AIC:                            -793.4\n",
      "Df Residuals:                       2   BIC:                            -788.5\n",
      "Df Model:                           9                                         \n",
      "Covariance Type:            nonrobust                                         \n",
      "=========================================================================================\n",
      "                            coef    std err          t      P>|t|      [0.025      0.975]\n",
      "-----------------------------------------------------------------------------------------\n",
      "const                     0.1923   3.23e-15   5.96e+13      0.000       0.192       0.192\n",
      "MatchesPlayed         -8.882e-16   5.45e-15     -0.163      0.885   -2.43e-14    2.25e-14\n",
      "Total Points Conceded -5.551e-17   5.24e-15     -0.011      0.993   -2.26e-14    2.25e-14\n",
      "Successful Raids               0   1.51e-14          0      1.000   -6.51e-14    6.51e-14\n",
      "Successful Tackles     -1.11e-15   6.75e-15     -0.164      0.884   -3.02e-14    2.79e-14\n",
      "Super Raid                0.2692   5.72e-15   4.71e+13      0.000       0.269       0.269\n",
      "Super Tackles             0.2179   4.25e-15   5.13e+13      0.000       0.218       0.218\n",
      "Inflicted                 0.4744   1.21e-14   3.92e+13      0.000       0.474       0.474\n",
      "Conceded                 -0.2436   4.17e-15  -5.84e+13      0.000      -0.244      -0.244\n",
      "Total Points           8.882e-16   4.06e-14      0.022      0.985   -1.74e-13    1.76e-13\n",
      "==============================================================================\n",
      "Omnibus:                        2.494   Durbin-Watson:                   0.413\n",
      "Prob(Omnibus):                  0.287   Jarque-Bera (JB):                0.980\n",
      "Skew:                           0.697   Prob(JB):                        0.613\n",
      "Kurtosis:                       3.134   Cond. No.                         215.\n",
      "==============================================================================\n",
      "\n",
      "Warnings:\n",
      "[1] Standard Errors assume that the covariance matrix of the errors is correctly specified.\n"
     ]
    },
    {
     "name": "stderr",
     "output_type": "stream",
     "text": [
      "C:\\Users\\cjyothsna\\AppData\\Local\\Continuum\\anaconda3\\lib\\site-packages\\numpy\\core\\fromnumeric.py:2389: FutureWarning: Method .ptp is deprecated and will be removed in a future version. Use numpy.ptp instead.\n",
      "  return ptp(axis=axis, out=out, **kwargs)\n",
      "C:\\Users\\cjyothsna\\AppData\\Local\\Continuum\\anaconda3\\lib\\site-packages\\scipy\\stats\\stats.py:1416: UserWarning: kurtosistest only valid for n>=20 ... continuing anyway, n=12\n",
      "  \"anyway, n=%i\" % int(n))\n"
     ]
    }
   ],
   "source": [
    "import statsmodels.api as sm\n",
    "X_train_lm = sm.add_constant(X_train)\n",
    "\n",
    "lr_1 = sm.OLS(y_train, X_train_lm).fit()\n",
    "\n",
    "print(lr_1.summary())"
   ]
  },
  {
   "cell_type": "code",
   "execution_count": 79,
   "metadata": {},
   "outputs": [
    {
     "name": "stdout",
     "output_type": "stream",
     "text": [
      "                            OLS Regression Results                            \n",
      "==============================================================================\n",
      "Dep. Variable:       SuperPerformance   R-squared:                       1.000\n",
      "Model:                            OLS   Adj. R-squared:                  1.000\n",
      "Method:                 Least Squares   F-statistic:                 1.571e+29\n",
      "Date:                Wed, 02 Oct 2019   Prob (F-statistic):           2.42e-44\n",
      "Time:                        12:25:23   Log-Likelihood:                 409.16\n",
      "No. Observations:                  12   AIC:                            -800.3\n",
      "Df Residuals:                       3   BIC:                            -796.0\n",
      "Df Model:                           8                                         \n",
      "Covariance Type:            nonrobust                                         \n",
      "======================================================================================\n",
      "                         coef    std err          t      P>|t|      [0.025      0.975]\n",
      "--------------------------------------------------------------------------------------\n",
      "const                  0.1923   2.13e-15   9.03e+13      0.000       0.192       0.192\n",
      "MatchesPlayed      -4.996e-16   3.36e-15     -0.149      0.891   -1.12e-14    1.02e-14\n",
      "Successful Raids   -1.332e-15   9.73e-15     -0.137      0.900   -3.23e-14    2.96e-14\n",
      "Successful Tackles -5.551e-16   4.44e-15     -0.125      0.908   -1.47e-14    1.36e-14\n",
      "Super Raid             0.2692   3.69e-15    7.3e+13      0.000       0.269       0.269\n",
      "Super Tackles          0.2179   2.66e-15    8.2e+13      0.000       0.218       0.218\n",
      "Inflicted              0.4744   7.75e-15   6.12e+13      0.000       0.474       0.474\n",
      "Conceded              -0.2436   2.45e-15  -9.94e+13      0.000      -0.244      -0.244\n",
      "Total Points        3.109e-15   2.65e-14      0.117      0.914   -8.14e-14    8.76e-14\n",
      "==============================================================================\n",
      "Omnibus:                        7.077   Durbin-Watson:                   0.346\n",
      "Prob(Omnibus):                  0.029   Jarque-Bera (JB):                3.235\n",
      "Skew:                           1.158   Prob(JB):                        0.198\n",
      "Kurtosis:                       4.054   Cond. No.                         205.\n",
      "==============================================================================\n",
      "\n",
      "Warnings:\n",
      "[1] Standard Errors assume that the covariance matrix of the errors is correctly specified.\n"
     ]
    },
    {
     "name": "stderr",
     "output_type": "stream",
     "text": [
      "C:\\Users\\cjyothsna\\AppData\\Local\\Continuum\\anaconda3\\lib\\site-packages\\scipy\\stats\\stats.py:1416: UserWarning: kurtosistest only valid for n>=20 ... continuing anyway, n=12\n",
      "  \"anyway, n=%i\" % int(n))\n"
     ]
    }
   ],
   "source": [
    "X = X_train.drop('Total Points Conceded', 1,)\n",
    "X_train_lm = sm.add_constant(X)\n",
    "\n",
    "lr_2 = sm.OLS(y_train, X_train_lm).fit()\n",
    "print(lr_2.summary())"
   ]
  },
  {
   "cell_type": "code",
   "execution_count": 80,
   "metadata": {},
   "outputs": [
    {
     "name": "stdout",
     "output_type": "stream",
     "text": [
      "                            OLS Regression Results                            \n",
      "==============================================================================\n",
      "Dep. Variable:       SuperPerformance   R-squared:                       1.000\n",
      "Model:                            OLS   Adj. R-squared:                  1.000\n",
      "Method:                 Least Squares   F-statistic:                 2.693e+30\n",
      "Date:                Wed, 02 Oct 2019   Prob (F-statistic):           3.55e-61\n",
      "Time:                        12:25:26   Log-Likelihood:                 423.68\n",
      "No. Observations:                  12   AIC:                            -831.4\n",
      "Df Residuals:                       4   BIC:                            -827.5\n",
      "Df Model:                           7                                         \n",
      "Covariance Type:            nonrobust                                         \n",
      "====================================================================================\n",
      "                       coef    std err          t      P>|t|      [0.025      0.975]\n",
      "------------------------------------------------------------------------------------\n",
      "const                0.1923   2.07e-16   9.28e+14      0.000       0.192       0.192\n",
      "MatchesPlayed      1.11e-16   8.54e-16      0.130      0.903   -2.26e-15    2.48e-15\n",
      "Successful Raids -8.882e-16   1.22e-15     -0.727      0.508   -4.28e-15    2.51e-15\n",
      "Super Raid           0.2692   4.86e-16   5.54e+14      0.000       0.269       0.269\n",
      "Super Tackles        0.2179   6.06e-16    3.6e+14      0.000       0.218       0.218\n",
      "Inflicted            0.4744   1.15e-15   4.14e+14      0.000       0.474       0.474\n",
      "Conceded            -0.2436   3.49e-16  -6.97e+14      0.000      -0.244      -0.244\n",
      "Total Points      1.332e-15   3.71e-15      0.359      0.738   -8.96e-15    1.16e-14\n",
      "==============================================================================\n",
      "Omnibus:                        0.721   Durbin-Watson:                   2.209\n",
      "Prob(Omnibus):                  0.697   Jarque-Bera (JB):                0.664\n",
      "Skew:                          -0.312   Prob(JB):                        0.718\n",
      "Kurtosis:                       2.031   Cond. No.                         105.\n",
      "==============================================================================\n",
      "\n",
      "Warnings:\n",
      "[1] Standard Errors assume that the covariance matrix of the errors is correctly specified.\n"
     ]
    },
    {
     "name": "stderr",
     "output_type": "stream",
     "text": [
      "C:\\Users\\cjyothsna\\AppData\\Local\\Continuum\\anaconda3\\lib\\site-packages\\scipy\\stats\\stats.py:1416: UserWarning: kurtosistest only valid for n>=20 ... continuing anyway, n=12\n",
      "  \"anyway, n=%i\" % int(n))\n"
     ]
    }
   ],
   "source": [
    "X = X.drop('Successful Tackles', 1,)\n",
    "X_train_lm = sm.add_constant(X)\n",
    "\n",
    "lr_2 = sm.OLS(y_train, X_train_lm).fit()\n",
    "print(lr_2.summary())"
   ]
  },
  {
   "cell_type": "code",
   "execution_count": 81,
   "metadata": {},
   "outputs": [
    {
     "name": "stdout",
     "output_type": "stream",
     "text": [
      "                            OLS Regression Results                            \n",
      "==============================================================================\n",
      "Dep. Variable:       SuperPerformance   R-squared:                       1.000\n",
      "Model:                            OLS   Adj. R-squared:                  1.000\n",
      "Method:                 Least Squares   F-statistic:                 1.180e+30\n",
      "Date:                Wed, 02 Oct 2019   Prob (F-statistic):           3.30e-75\n",
      "Time:                        12:25:28   Log-Likelihood:                 416.47\n",
      "No. Observations:                  12   AIC:                            -818.9\n",
      "Df Residuals:                       5   BIC:                            -815.6\n",
      "Df Model:                           6                                         \n",
      "Covariance Type:            nonrobust                                         \n",
      "=================================================================================\n",
      "                    coef    std err          t      P>|t|      [0.025      0.975]\n",
      "---------------------------------------------------------------------------------\n",
      "const             0.1923   2.91e-16    6.6e+14      0.000       0.192       0.192\n",
      "MatchesPlayed  3.331e-16   9.16e-16      0.363      0.731   -2.02e-15    2.69e-15\n",
      "Super Raid        0.2692   5.47e-16   4.92e+14      0.000       0.269       0.269\n",
      "Super Tackles     0.2179   5.13e-16   4.25e+14      0.000       0.218       0.218\n",
      "Inflicted         0.4744   1.44e-15   3.29e+14      0.000       0.474       0.474\n",
      "Conceded         -0.2436   4.71e-16  -5.17e+14      0.000      -0.244      -0.244\n",
      "Total Points  -8.882e-16   2.29e-15     -0.389      0.714   -6.76e-15    4.99e-15\n",
      "==============================================================================\n",
      "Omnibus:                        0.751   Durbin-Watson:                   1.270\n",
      "Prob(Omnibus):                  0.687   Jarque-Bera (JB):                0.689\n",
      "Skew:                           0.348   Prob(JB):                        0.709\n",
      "Kurtosis:                       2.055   Cond. No.                         40.3\n",
      "==============================================================================\n",
      "\n",
      "Warnings:\n",
      "[1] Standard Errors assume that the covariance matrix of the errors is correctly specified.\n"
     ]
    },
    {
     "name": "stderr",
     "output_type": "stream",
     "text": [
      "C:\\Users\\cjyothsna\\AppData\\Local\\Continuum\\anaconda3\\lib\\site-packages\\scipy\\stats\\stats.py:1416: UserWarning: kurtosistest only valid for n>=20 ... continuing anyway, n=12\n",
      "  \"anyway, n=%i\" % int(n))\n"
     ]
    }
   ],
   "source": [
    "X = X.drop('Successful Raids', 1,)\n",
    "X_train_lm = sm.add_constant(X)\n",
    "\n",
    "lr_2 = sm.OLS(y_train, X_train_lm).fit()\n",
    "print(lr_2.summary())"
   ]
  },
  {
   "cell_type": "code",
   "execution_count": 82,
   "metadata": {},
   "outputs": [
    {
     "data": {
      "text/plain": [
       "Text(0.5, 0, 'Errors')"
      ]
     },
     "execution_count": 82,
     "metadata": {},
     "output_type": "execute_result"
    },
    {
     "data": {
      "image/png": "[encoded data removed]",
      "text/plain": [
       "<Figure size 432x288 with 1 Axes>"
      ]
     },
     "metadata": {
      "needs_background": "light"
     },
     "output_type": "display_data"
    }
   ],
   "source": [
    "y_train_pred=lr_2.predict(X_train_lm)\n",
    "import matplotlib.pyplot as plt\n",
    "import seaborn as sns\n",
    "fig = plt.figure()\n",
    "sns.distplot((y_train - y_train_pred), bins = 20)\n",
    "fig.suptitle('Error Terms', fontsize = 20)                  # Plot heading \n",
    "plt.xlabel('Errors', fontsize = 18) "
   ]
  },
  {
   "cell_type": "code",
   "execution_count": 83,
   "metadata": {},
   "outputs": [
    {
     "name": "stderr",
     "output_type": "stream",
     "text": [
      "C:\\Users\\cjyothsna\\AppData\\Local\\Continuum\\anaconda3\\lib\\site-packages\\numpy\\core\\fromnumeric.py:2389: FutureWarning: Method .ptp is deprecated and will be removed in a future version. Use numpy.ptp instead.\n",
      "  return ptp(axis=axis, out=out, **kwargs)\n"
     ]
    },
    {
     "data": {
      "text/plain": [
       "Text(0, 0.5, 'y_pred')"
      ]
     },
     "execution_count": 83,
     "metadata": {},
     "output_type": "execute_result"
    },
    {
     "data": {
      "image/png": "[encoded data removed]",
      "text/plain": [
       "<Figure size 432x288 with 1 Axes>"
      ]
     },
     "metadata": {
      "needs_background": "light"
     },
     "output_type": "display_data"
    }
   ],
   "source": [
    "S6_var=['MatchesPlayed','Total Points Conceded','Successful Raids','Successful Tackles','Super Raid','Super Tackles','Inflicted','Conceded','Total Points','SuperPerformance']\n",
    "S6[S6_var]=scaler.transform(S6[S6_var])\n",
    "X_test_S6=S6[['MatchesPlayed','Total Points Conceded','Successful Raids','Successful Tackles','Super Raid','Super Tackles','Inflicted','Conceded','Total Points']]\n",
    "y_test_S6=S6['SuperPerformance'] \n",
    "X_test_m6=sm.add_constant(X_test_S6)\n",
    "X_test_m6=X_test_m6.drop(['Total Points Conceded','Successful Tackles','Successful Raids'],1)\n",
    "y_pred_test_S6=lr_2.predict(X_test_m6)\n",
    "fig = plt.figure()\n",
    "plt.scatter(y_test_S6, y_pred_test_S6)\n",
    "fig.suptitle('y_test vs y_pred', fontsize = 20)              # Plot heading \n",
    "plt.xlabel('y_test', fontsize = 18)                          # X-label\n",
    "plt.ylabel('y_pred', fontsize = 16)"
   ]
  },
  {
   "cell_type": "code",
   "execution_count": 84,
   "metadata": {},
   "outputs": [
    {
     "data": {
      "text/plain": [
       "0     0.564103\n",
       "1     0.551282\n",
       "2     0.692308\n",
       "3     0.474359\n",
       "4     0.410256\n",
       "5     0.333333\n",
       "6     0.397436\n",
       "7     0.115385\n",
       "8     0.346154\n",
       "9     0.179487\n",
       "10    0.320513\n",
       "11    0.435897\n",
       "dtype: float64"
      ]
     },
     "execution_count": 84,
     "metadata": {},
     "output_type": "execute_result"
    }
   ],
   "source": [
    "y_pred_test_S6"
   ]
  },
  {
   "cell_type": "code",
   "execution_count": 85,
   "metadata": {},
   "outputs": [
    {
     "name": "stderr",
     "output_type": "stream",
     "text": [
      "C:\\Users\\cjyothsna\\AppData\\Local\\Continuum\\anaconda3\\lib\\site-packages\\numpy\\core\\fromnumeric.py:2389: FutureWarning: Method .ptp is deprecated and will be removed in a future version. Use numpy.ptp instead.\n",
      "  return ptp(axis=axis, out=out, **kwargs)\n"
     ]
    },
    {
     "data": {
      "text/plain": [
       "Text(0, 0.5, 'y_pred')"
      ]
     },
     "execution_count": 85,
     "metadata": {},
     "output_type": "execute_result"
    },
    {
     "data": {
      "image/png": "[encoded data removed]",
      "text/plain": [
       "<Figure size 432x288 with 1 Axes>"
      ]
     },
     "metadata": {
      "needs_background": "light"
     },
     "output_type": "display_data"
    }
   ],
   "source": [
    "S7_var=['MatchesPlayed','Total Points Conceded','Successful Raids','Successful Tackles','Super Raid','Super Tackles','Inflicted','Conceded','Total Points','SuperPerformance']\n",
    "S7[S7_var]=scaler.transform(S7[S7_var])\n",
    "X_test_S7=S7[['MatchesPlayed','Total Points Conceded','Successful Raids','Successful Tackles','Super Raid','Super Tackles','Inflicted','Conceded','Total Points']]\n",
    "y_test_S7=S7['SuperPerformance'] \n",
    "X_test_m7=sm.add_constant(X_test_S7)\n",
    "X_test_m7=X_test_m7.drop(['Total Points Conceded','Successful Tackles','Successful Raids'],1)\n",
    "y_pred_test_S7=lr_2.predict(X_test_m7)\n",
    "fig = plt.figure()\n",
    "plt.scatter(y_test_S7, y_pred_test_S7)\n",
    "fig.suptitle('y_test vs y_pred', fontsize = 20)              # Plot heading \n",
    "plt.xlabel('y_test', fontsize = 18)                          # X-label\n",
    "plt.ylabel('y_pred', fontsize = 16)"
   ]
  },
  {
   "cell_type": "code",
   "execution_count": 86,
   "metadata": {},
   "outputs": [
    {
     "data": {
      "text/html": [
       "<div>\n",
       "<style scoped>\n",
       "    .dataframe tbody tr th:only-of-type {\n",
       "        vertical-align: middle;\n",
       "    }\n",
       "\n",
       "    .dataframe tbody tr th {\n",
       "        vertical-align: top;\n",
       "    }\n",
       "\n",
       "    .dataframe thead th {\n",
       "        text-align: right;\n",
       "    }\n",
       "</style>\n",
       "<table border=\"1\" class=\"dataframe\">\n",
       "  <thead>\n",
       "    <tr style=\"text-align: right;\">\n",
       "      <th></th>\n",
       "      <th>Team</th>\n",
       "      <th>Total Points</th>\n",
       "      <th>MatchesPlayed</th>\n",
       "      <th>Total Points Conceded</th>\n",
       "      <th>Successful Raids</th>\n",
       "      <th>Successful Tackles</th>\n",
       "      <th>Super Raid</th>\n",
       "      <th>Super Tackles</th>\n",
       "      <th>Inflicted</th>\n",
       "      <th>Conceded</th>\n",
       "      <th>SuperPerformance</th>\n",
       "      <th>Predicted</th>\n",
       "    </tr>\n",
       "  </thead>\n",
       "  <tbody>\n",
       "    <tr>\n",
       "      <th>0</th>\n",
       "      <td>Dabang Delhi K.C.</td>\n",
       "      <td>0.318584</td>\n",
       "      <td>-0.5</td>\n",
       "      <td>0.064286</td>\n",
       "      <td>0.382353</td>\n",
       "      <td>0.236559</td>\n",
       "      <td>0.142857</td>\n",
       "      <td>-0.117647</td>\n",
       "      <td>0.432432</td>\n",
       "      <td>0.052632</td>\n",
       "      <td>0.397436</td>\n",
       "      <td>3.974359e-01</td>\n",
       "    </tr>\n",
       "    <tr>\n",
       "      <th>1</th>\n",
       "      <td>Bengal Warriors</td>\n",
       "      <td>0.265487</td>\n",
       "      <td>-0.5</td>\n",
       "      <td>-0.064286</td>\n",
       "      <td>0.279412</td>\n",
       "      <td>0.247312</td>\n",
       "      <td>0.476190</td>\n",
       "      <td>0.117647</td>\n",
       "      <td>0.432432</td>\n",
       "      <td>0.000000</td>\n",
       "      <td>0.551282</td>\n",
       "      <td>5.512821e-01</td>\n",
       "    </tr>\n",
       "    <tr>\n",
       "      <th>2</th>\n",
       "      <td>Patna Pirates</td>\n",
       "      <td>0.150442</td>\n",
       "      <td>-0.5</td>\n",
       "      <td>0.107143</td>\n",
       "      <td>0.098039</td>\n",
       "      <td>0.161290</td>\n",
       "      <td>0.380952</td>\n",
       "      <td>0.823529</td>\n",
       "      <td>0.270270</td>\n",
       "      <td>0.368421</td>\n",
       "      <td>0.512821</td>\n",
       "      <td>5.128205e-01</td>\n",
       "    </tr>\n",
       "    <tr>\n",
       "      <th>3</th>\n",
       "      <td>Bengaluru Bulls</td>\n",
       "      <td>0.150442</td>\n",
       "      <td>-0.5</td>\n",
       "      <td>0.067857</td>\n",
       "      <td>0.127451</td>\n",
       "      <td>0.096774</td>\n",
       "      <td>0.142857</td>\n",
       "      <td>0.882353</td>\n",
       "      <td>0.135135</td>\n",
       "      <td>0.421053</td>\n",
       "      <td>0.384615</td>\n",
       "      <td>3.846154e-01</td>\n",
       "    </tr>\n",
       "    <tr>\n",
       "      <th>4</th>\n",
       "      <td>Haryana Steelers</td>\n",
       "      <td>0.141593</td>\n",
       "      <td>-0.5</td>\n",
       "      <td>0.025000</td>\n",
       "      <td>0.034314</td>\n",
       "      <td>0.236559</td>\n",
       "      <td>0.428571</td>\n",
       "      <td>0.235294</td>\n",
       "      <td>0.270270</td>\n",
       "      <td>0.315789</td>\n",
       "      <td>0.410256</td>\n",
       "      <td>4.102564e-01</td>\n",
       "    </tr>\n",
       "    <tr>\n",
       "      <th>5</th>\n",
       "      <td>Puneri Paltan</td>\n",
       "      <td>0.119469</td>\n",
       "      <td>-0.5</td>\n",
       "      <td>0.292857</td>\n",
       "      <td>0.034314</td>\n",
       "      <td>0.516129</td>\n",
       "      <td>0.047619</td>\n",
       "      <td>0.882353</td>\n",
       "      <td>0.000000</td>\n",
       "      <td>0.842105</td>\n",
       "      <td>0.192308</td>\n",
       "      <td>1.923077e-01</td>\n",
       "    </tr>\n",
       "    <tr>\n",
       "      <th>6</th>\n",
       "      <td>U Mumba</td>\n",
       "      <td>0.066372</td>\n",
       "      <td>-0.5</td>\n",
       "      <td>-0.192857</td>\n",
       "      <td>-0.049020</td>\n",
       "      <td>0.161290</td>\n",
       "      <td>0.095238</td>\n",
       "      <td>0.529412</td>\n",
       "      <td>0.243243</td>\n",
       "      <td>0.210526</td>\n",
       "      <td>0.397436</td>\n",
       "      <td>3.974359e-01</td>\n",
       "    </tr>\n",
       "    <tr>\n",
       "      <th>7</th>\n",
       "      <td>Jaipur Pink Panthers</td>\n",
       "      <td>0.061947</td>\n",
       "      <td>-0.5</td>\n",
       "      <td>0.010714</td>\n",
       "      <td>-0.107843</td>\n",
       "      <td>0.322581</td>\n",
       "      <td>0.095238</td>\n",
       "      <td>1.294118</td>\n",
       "      <td>0.027027</td>\n",
       "      <td>0.315789</td>\n",
       "      <td>0.435897</td>\n",
       "      <td>4.358974e-01</td>\n",
       "    </tr>\n",
       "    <tr>\n",
       "      <th>8</th>\n",
       "      <td>Gujarat Fortunegiants</td>\n",
       "      <td>0.015487</td>\n",
       "      <td>-0.5</td>\n",
       "      <td>-0.178571</td>\n",
       "      <td>-0.088235</td>\n",
       "      <td>0.301075</td>\n",
       "      <td>0.000000</td>\n",
       "      <td>0.411765</td>\n",
       "      <td>0.081081</td>\n",
       "      <td>0.263158</td>\n",
       "      <td>0.256410</td>\n",
       "      <td>2.564103e-01</td>\n",
       "    </tr>\n",
       "    <tr>\n",
       "      <th>9</th>\n",
       "      <td>Tamil Thalaivas</td>\n",
       "      <td>-0.044248</td>\n",
       "      <td>-0.5</td>\n",
       "      <td>0.192857</td>\n",
       "      <td>-0.039216</td>\n",
       "      <td>0.010753</td>\n",
       "      <td>-0.047619</td>\n",
       "      <td>0.176471</td>\n",
       "      <td>-0.108108</td>\n",
       "      <td>0.684211</td>\n",
       "      <td>0.000000</td>\n",
       "      <td>-1.775382e-16</td>\n",
       "    </tr>\n",
       "    <tr>\n",
       "      <th>10</th>\n",
       "      <td>Telugu Titans</td>\n",
       "      <td>-0.075221</td>\n",
       "      <td>-1.0</td>\n",
       "      <td>-0.135714</td>\n",
       "      <td>-0.049020</td>\n",
       "      <td>0.032258</td>\n",
       "      <td>0.190476</td>\n",
       "      <td>0.647059</td>\n",
       "      <td>-0.135135</td>\n",
       "      <td>0.263158</td>\n",
       "      <td>0.256410</td>\n",
       "      <td>2.564103e-01</td>\n",
       "    </tr>\n",
       "    <tr>\n",
       "      <th>11</th>\n",
       "      <td>U.P. Yoddha</td>\n",
       "      <td>-0.103982</td>\n",
       "      <td>-1.0</td>\n",
       "      <td>-0.253571</td>\n",
       "      <td>-0.294118</td>\n",
       "      <td>0.193548</td>\n",
       "      <td>0.000000</td>\n",
       "      <td>0.352941</td>\n",
       "      <td>0.081081</td>\n",
       "      <td>0.263158</td>\n",
       "      <td>0.243590</td>\n",
       "      <td>2.435897e-01</td>\n",
       "    </tr>\n",
       "  </tbody>\n",
       "</table>\n",
       "</div>"
      ],
      "text/plain": [
       "                     Team  Total Points  MatchesPlayed  Total Points Conceded  \\\n",
       "0       Dabang Delhi K.C.      0.318584           -0.5               0.064286   \n",
       "1         Bengal Warriors      0.265487           -0.5              -0.064286   \n",
       "2           Patna Pirates      0.150442           -0.5               0.107143   \n",
       "3         Bengaluru Bulls      0.150442           -0.5               0.067857   \n",
       "4        Haryana Steelers      0.141593           -0.5               0.025000   \n",
       "5           Puneri Paltan      0.119469           -0.5               0.292857   \n",
       "6                 U Mumba      0.066372           -0.5              -0.192857   \n",
       "7    Jaipur Pink Panthers      0.061947           -0.5               0.010714   \n",
       "8   Gujarat Fortunegiants      0.015487           -0.5              -0.178571   \n",
       "9         Tamil Thalaivas     -0.044248           -0.5               0.192857   \n",
       "10          Telugu Titans     -0.075221           -1.0              -0.135714   \n",
       "11            U.P. Yoddha     -0.103982           -1.0              -0.253571   \n",
       "\n",
       "    Successful Raids  Successful Tackles  Super Raid  Super Tackles  \\\n",
       "0           0.382353            0.236559    0.142857      -0.117647   \n",
       "1           0.279412            0.247312    0.476190       0.117647   \n",
       "2           0.098039            0.161290    0.380952       0.823529   \n",
       "3           0.127451            0.096774    0.142857       0.882353   \n",
       "4           0.034314            0.236559    0.428571       0.235294   \n",
       "5           0.034314            0.516129    0.047619       0.882353   \n",
       "6          -0.049020            0.161290    0.095238       0.529412   \n",
       "7          -0.107843            0.322581    0.095238       1.294118   \n",
       "8          -0.088235            0.301075    0.000000       0.411765   \n",
       "9          -0.039216            0.010753   -0.047619       0.176471   \n",
       "10         -0.049020            0.032258    0.190476       0.647059   \n",
       "11         -0.294118            0.193548    0.000000       0.352941   \n",
       "\n",
       "    Inflicted  Conceded  SuperPerformance     Predicted  \n",
       "0    0.432432  0.052632          0.397436  3.974359e-01  \n",
       "1    0.432432  0.000000          0.551282  5.512821e-01  \n",
       "2    0.270270  0.368421          0.512821  5.128205e-01  \n",
       "3    0.135135  0.421053          0.384615  3.846154e-01  \n",
       "4    0.270270  0.315789          0.410256  4.102564e-01  \n",
       "5    0.000000  0.842105          0.192308  1.923077e-01  \n",
       "6    0.243243  0.210526          0.397436  3.974359e-01  \n",
       "7    0.027027  0.315789          0.435897  4.358974e-01  \n",
       "8    0.081081  0.263158          0.256410  2.564103e-01  \n",
       "9   -0.108108  0.684211          0.000000 -1.775382e-16  \n",
       "10  -0.135135  0.263158          0.256410  2.564103e-01  \n",
       "11   0.081081  0.263158          0.243590  2.435897e-01  "
      ]
     },
     "execution_count": 86,
     "metadata": {},
     "output_type": "execute_result"
    }
   ],
   "source": [
    "S7_pred=S7\n",
    "S7_pred['Predicted']=y_pred_test_S7\n",
    "S7_pred"
   ]
  },
  {
   "cell_type": "markdown",
   "metadata": {},
   "source": [
    "## Highest Super Performance - Bengal Warriors "
   ]
  },
  {
   "cell_type": "code",
   "execution_count": null,
   "metadata": {},
   "outputs": [],
   "source": []
  }
 ],
 "metadata": {
  "kernelspec": {
   "display_name": "Python 3",
   "language": "python",
   "name": "python3"
  },
  "language_info": {
   "codemirror_mode": {
    "name": "ipython",
    "version": 3
   },
   "file_extension": ".py",
   "mimetype": "text/x-python",
   "name": "python",
   "nbconvert_exporter": "python",
   "pygments_lexer": "ipython3",
   "version": "3.7.3"
  }
 },
 "nbformat": 4,
 "nbformat_minor": 2
}
