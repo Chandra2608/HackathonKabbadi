{
 "cells": [
  {
   "cell_type": "code",
   "execution_count": null,
   "metadata": {},
   "outputs": [],
   "source": [
    "import numpy as np\n",
    "import pandas as pd\n",
    "from bs4 import BeautifulSoup\n",
    "from selenium  import webdriver\n",
    "import threading\n",
    "import time\n",
    "from threading import Thread, Lock\n",
    "from webdriver_manager.chrome import ChromeDriverManager"
   ]
  },
  {
   "cell_type": "code",
   "execution_count": 2,
   "metadata": {},
   "outputs": [
    {
     "name": "stdout",
     "output_type": "stream",
     "text": [
      "\n",
      "Checking for win32 chromedriver:77.0.3865.40 in cache\n",
      "Driver found in C:\\Users\\cjyothsna\\.wdm\\chromedriver\\77.0.3865.40\\win32/chromedriver.exe\n"
     ]
    }
   ],
   "source": [
    "driver=webdriver.Chrome(ChromeDriverManager().install())\n",
    "driver.get('https://www.prokabaddi.com/stats/8-21-successful-raids-statistics')"
   ]
  },
  {
   "cell_type": "code",
   "execution_count": 3,
   "metadata": {},
   "outputs": [],
   "source": [
    "from selenium.webdriver.support.ui import Select\n",
    "\n",
    "## Total points Scored\n",
    "\n",
    "element=driver.find_element_by_id('load_more')\n",
    "element.click()\n",
    "element=driver.find_element_by_id('load_more')\n",
    "element.click()\n",
    "element=driver.find_element_by_id('load_more')\n",
    "element.click()\n",
    "element=driver.find_element_by_id('load_more')\n",
    "element.click()\n",
    "element=driver.find_element_by_id('load_more')\n",
    "element.click()\n",
    "element=driver.find_element_by_id('load_more')\n",
    "element.click()\n",
    "element=driver.find_element_by_id('load_more')\n",
    "element.click()\n",
    "element=driver.find_element_by_id('load_more')\n",
    "element.click()\n",
    "element=driver.find_element_by_id('load_more')\n",
    "element.click()\n",
    "element=driver.find_element_by_id('load_more')\n",
    "element.click()\n",
    "element=driver.find_element_by_id('load_more')\n",
    "element.click()\n",
    "soup=BeautifulSoup(driver.page_source)\n",
    "Player_names=soup.findAll('div',attrs={'class':'sipk-lb-playerName'})\n",
    "T=[]\n",
    "for i in Player_names:\n",
    "    h=i.text\n",
    "    h=h.strip('\\n')\n",
    "    h=h.strip(' ')\n",
    "    h=h.strip('\\n ')\n",
    "    T.append(h)\n",
    "TotalPoints=soup.findAll('div',attrs={'class':'sipk-lb-detailBlock sipk-lb-raidPoints'})\n",
    "P=[]\n",
    "for i in TotalPoints:\n",
    "    k=i.text\n",
    "    k=k.strip('\\n')\n",
    "    k=k.strip(' ')\n",
    "    k=k.strip('\\n ')\n",
    "    P.append(k)\n",
    "MatchesPlayed=soup.findAll('div',attrs={'class':'sipk-lb-detailBlock sipk-lb-matchedPlayed'})\n",
    "N=[]\n",
    "for i in MatchesPlayed:\n",
    "    k=i.text\n",
    "    k=k.strip('\\n')\n",
    "    k=k.strip(' ')\n",
    "    k=k.strip('\\n ')\n",
    "    N.append(k)\n",
    "    \n",
    "Season5_TeamPoints=pd.DataFrame(T,P)\n",
    "Season5_TeamPoints=Season5_TeamPoints.reset_index()\n",
    "Season5_TeamPoints=Season5_TeamPoints.rename(columns={'index':'Total Points',0        :'Player'})\n",
    "Season5_TeamPoints=Season5_TeamPoints[['Player','Total Points']]\n",
    "Season5_TeamPoints['MatchesPlayed']=N"
   ]
  },
  {
   "cell_type": "code",
   "execution_count": 7,
   "metadata": {},
   "outputs": [
    {
     "name": "stdout",
     "output_type": "stream",
     "text": [
      "\n",
      "Checking for win32 chromedriver:77.0.3865.40 in cache\n",
      "Driver found in C:\\Users\\cjyothsna\\.wdm\\chromedriver\\77.0.3865.40\\win32/chromedriver.exe\n"
     ]
    }
   ],
   "source": [
    "driver=webdriver.Chrome(ChromeDriverManager().install())\n",
    "driver.get('https://www.prokabaddi.com/stats/26-21-successful-raids-statistics')\n",
    "time.sleep(5)"
   ]
  },
  {
   "cell_type": "code",
   "execution_count": 8,
   "metadata": {},
   "outputs": [],
   "source": [
    "from selenium.webdriver.support.ui import Select\n",
    "\n",
    "## Total points Scored\n",
    "\n",
    "element=driver.find_element_by_id('load_more')\n",
    "element.click()\n",
    "element=driver.find_element_by_id('load_more')\n",
    "element.click()\n",
    "element=driver.find_element_by_id('load_more')\n",
    "element.click()\n",
    "element=driver.find_element_by_id('load_more')\n",
    "element.click()\n",
    "element=driver.find_element_by_id('load_more')\n",
    "element.click()\n",
    "element=driver.find_element_by_id('load_more')\n",
    "element.click()\n",
    "element=driver.find_element_by_id('load_more')\n",
    "element.click()\n",
    "element=driver.find_element_by_id('load_more')\n",
    "element.click()\n",
    "element=driver.find_element_by_id('load_more')\n",
    "element.click()\n",
    "element=driver.find_element_by_id('load_more')\n",
    "element.click()\n",
    "element=driver.find_element_by_id('load_more')\n",
    "element.click()\n",
    "soup=BeautifulSoup(driver.page_source)\n",
    "Player_names=soup.findAll('div',attrs={'class':'sipk-lb-playerName'})\n",
    "T=[]\n",
    "for i in Player_names:\n",
    "    h=i.text\n",
    "    h=h.strip('\\n')\n",
    "    h=h.strip(' ')\n",
    "    h=h.strip('\\n ')\n",
    "    T.append(h)\n",
    "TotalPoints=soup.findAll('div',attrs={'class':'sipk-lb-detailBlock sipk-lb-raidPoints'})\n",
    "P=[]\n",
    "for i in TotalPoints:\n",
    "    k=i.text\n",
    "    k=k.strip('\\n')\n",
    "    k=k.strip(' ')\n",
    "    k=k.strip('\\n ')\n",
    "    P.append(k)\n",
    "MatchesPlayed=soup.findAll('div',attrs={'class':'sipk-lb-detailBlock sipk-lb-matchedPlayed'})\n",
    "N=[]\n",
    "for i in MatchesPlayed:\n",
    "    k=i.text\n",
    "    k=k.strip('\\n')\n",
    "    k=k.strip(' ')\n",
    "    k=k.strip('\\n ')\n",
    "    N.append(k)\n",
    "    \n",
    "Season6_TeamPoints=pd.DataFrame(T,P)\n",
    "Season6_TeamPoints=Season6_TeamPoints.reset_index()\n",
    "Season6_TeamPoints=Season6_TeamPoints.rename(columns={'index':'Total Points',0        :'Player'})\n",
    "Season6_TeamPoints=Season6_TeamPoints[['Player','Total Points']]\n",
    "Season6_TeamPoints['MatchesPlayed']=N"
   ]
  },
  {
   "cell_type": "code",
   "execution_count": 12,
   "metadata": {},
   "outputs": [
    {
     "name": "stdout",
     "output_type": "stream",
     "text": [
      "\n",
      "Checking for win32 chromedriver:77.0.3865.40 in cache\n",
      "Driver found in C:\\Users\\cjyothsna\\.wdm\\chromedriver\\77.0.3865.40\\win32/chromedriver.exe\n"
     ]
    }
   ],
   "source": [
    "driver=webdriver.Chrome(ChromeDriverManager().install())\n",
    "driver.get('https://www.prokabaddi.com/stats/49-21-successful-raids-statistics')\n",
    "time.sleep(5)"
   ]
  },
  {
   "cell_type": "code",
   "execution_count": 13,
   "metadata": {},
   "outputs": [],
   "source": [
    "from selenium.webdriver.support.ui import Select\n",
    "\n",
    "## Total points Scored\n",
    "\n",
    "element=driver.find_element_by_id('load_more')\n",
    "element.click()\n",
    "element=driver.find_element_by_id('load_more')\n",
    "element.click()\n",
    "element=driver.find_element_by_id('load_more')\n",
    "element.click()\n",
    "element=driver.find_element_by_id('load_more')\n",
    "element.click()\n",
    "element=driver.find_element_by_id('load_more')\n",
    "element.click()\n",
    "element=driver.find_element_by_id('load_more')\n",
    "element.click()\n",
    "element=driver.find_element_by_id('load_more')\n",
    "element.click()\n",
    "element=driver.find_element_by_id('load_more')\n",
    "element.click()\n",
    "element=driver.find_element_by_id('load_more')\n",
    "element.click()\n",
    "element=driver.find_element_by_id('load_more')\n",
    "element.click()\n",
    "soup=BeautifulSoup(driver.page_source)\n",
    "Player_names=soup.findAll('div',attrs={'class':'sipk-lb-playerName'})\n",
    "T=[]\n",
    "for i in Player_names:\n",
    "    h=i.text\n",
    "    h=h.strip('\\n')\n",
    "    h=h.strip(' ')\n",
    "    h=h.strip('\\n ')\n",
    "    T.append(h)\n",
    "TotalPoints=soup.findAll('div',attrs={'class':'sipk-lb-detailBlock sipk-lb-raidPoints'})\n",
    "P=[]\n",
    "for i in TotalPoints:\n",
    "    k=i.text\n",
    "    k=k.strip('\\n')\n",
    "    k=k.strip(' ')\n",
    "    k=k.strip('\\n ')\n",
    "    P.append(k)\n",
    "MatchesPlayed=soup.findAll('div',attrs={'class':'sipk-lb-detailBlock sipk-lb-matchedPlayed'})\n",
    "N=[]\n",
    "for i in MatchesPlayed:\n",
    "    k=i.text\n",
    "    k=k.strip('\\n')\n",
    "    k=k.strip(' ')\n",
    "    k=k.strip('\\n ')\n",
    "    N.append(k)\n",
    "    \n",
    "Season7_TeamPoints=pd.DataFrame(T,P)\n",
    "Season7_TeamPoints=Season7_TeamPoints.reset_index()\n",
    "Season7_TeamPoints=Season7_TeamPoints.rename(columns={'index':'Total Points',0        :'Player'})\n",
    "Season7_TeamPoints=Season7_TeamPoints[['Player','Total Points']]\n",
    "Season7_TeamPoints['MatchesPlayed']=N"
   ]
  },
  {
   "cell_type": "code",
   "execution_count": 15,
   "metadata": {},
   "outputs": [],
   "source": [
    "Season5_TeamPoints.to_csv(r'I:\\Chandra J\\Python\\Kabbadi_Data\\Player_S5.csv')\n",
    "Season6_TeamPoints.to_csv(r'I:\\Chandra J\\Python\\Kabbadi_Data\\Player_S6.csv')\n",
    "Season7_TeamPoints.to_csv(r'I:\\Chandra J\\Python\\Kabbadi_Data\\Player_S7.csv')"
   ]
  },
  {
   "cell_type": "code",
   "execution_count": null,
   "metadata": {},
   "outputs": [],
   "source": []
  }
 ],
 "metadata": {
  "kernelspec": {
   "display_name": "Python 3",
   "language": "python",
   "name": "python3"
  },
  "language_info": {
   "codemirror_mode": {
    "name": "ipython",
    "version": 3
   },
   "file_extension": ".py",
   "mimetype": "text/x-python",
   "name": "python",
   "nbconvert_exporter": "python",
   "pygments_lexer": "ipython3",
   "version": "3.7.3"
  }
 },
 "nbformat": 4,
 "nbformat_minor": 2
}
